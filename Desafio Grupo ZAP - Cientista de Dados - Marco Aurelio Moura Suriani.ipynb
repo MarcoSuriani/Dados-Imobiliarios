{
 "cells": [
  {
   "cell_type": "markdown",
   "metadata": {},
   "source": [
    "# Desafio Grupo ZAP | Cientista de Dados\n",
    "## Candidato: Marco Aurélio Moura Suriani\n",
    "### Data: 18/07/2019"
   ]
  },
  {
   "cell_type": "code",
   "execution_count": 1,
   "metadata": {},
   "outputs": [],
   "source": [
    "# Importando bibliotecas que serão utilizadas\n",
    "\n",
    "import numpy as np\n",
    "import pandas as pd\n",
    "import matplotlib.pyplot as plt\n",
    "%matplotlib inline\n",
    "\n",
    "from sklearn.model_selection import train_test_split\n",
    "\n",
    "from sklearn.linear_model import LinearRegression\n",
    "from sklearn.tree import DecisionTreeRegressor\n",
    "from sklearn.neighbors import KNeighborsRegressor\n",
    "\n",
    "from sklearn.metrics import r2_score\n",
    "from sklearn.metrics import mean_squared_error\n",
    "from sklearn.metrics import median_absolute_error"
   ]
  },
  {
   "cell_type": "markdown",
   "metadata": {},
   "source": [
    "# 1) Leitura dos dados"
   ]
  },
  {
   "cell_type": "markdown",
   "metadata": {},
   "source": [
    "**Resumo:**\n",
    "* Arquivos json lidos como texto.\n",
    "* Cada linha é um dicionário, que será transformado em uma instância de um DataFrame.\n",
    "* Variáveis description e images não serão armazenadas, pois ocupam muita memória e não serão usadas neste trabalho.\n",
    "* DataFrame salvo como arquivo csv para leitura rápida."
   ]
  },
  {
   "cell_type": "code",
   "execution_count": 2,
   "metadata": {},
   "outputs": [],
   "source": [
    "# Lê arquivos json como arquivos de text usando utf8.\n",
    "\n",
    "dtst = open('source-4-ds-test.json', encoding=\"utf8\")\n",
    "dados_teste = dtst.readlines()\n",
    "dtst.close()\n",
    "\n",
    "dtrn = open('source-4-ds-train.json', encoding=\"utf8\")\n",
    "dados_treino = dtrn.readlines()\n",
    "dtrn.close()"
   ]
  },
  {
   "cell_type": "code",
   "execution_count": 3,
   "metadata": {},
   "outputs": [],
   "source": [
    "# Função que extrai o nome de cada variável dentro de um dicionário.\n",
    "# Também fornece o nome dos dicionários que contém as variáveis (caminho).\n",
    "# Exclui description e images.\n",
    "\n",
    "def extrai_nomes(d):\n",
    "    d = d.replace('false', \"'false'\").replace('null', \"'null'\").replace('true', \"'true'\")\n",
    "    d = eval(d)\n",
    "    \n",
    "    nomes_colunas = list(d.keys())\n",
    "    nomes_caminhos = []\n",
    "    for n in nomes_colunas:\n",
    "        nomes_caminhos.append([n])\n",
    "        \n",
    "    col_num = nomes_colunas.index('description')\n",
    "    nomes_colunas.remove(nomes_colunas[col_num])\n",
    "    nomes_caminhos.remove(nomes_caminhos[col_num])\n",
    "    \n",
    "    col_num = nomes_colunas.index('images')\n",
    "    nomes_colunas.remove(nomes_colunas[col_num])\n",
    "    nomes_caminhos.remove(nomes_caminhos[col_num])\n",
    "    \n",
    "    col_num = nomes_colunas.index('address')\n",
    "    nomes_colunas.remove(nomes_colunas[col_num])\n",
    "    nomes_caminhos.remove(nomes_caminhos[col_num])\n",
    "    for col_nom in reversed(list(d['address'].keys())):\n",
    "        nomes_colunas.insert(col_num, col_nom)\n",
    "        nomes_caminhos.insert(col_num, ['address', col_nom])\n",
    "    \n",
    "    col_num = nomes_colunas.index('geoLocation')\n",
    "    nomes_colunas.remove(nomes_colunas[col_num])\n",
    "    nomes_caminhos.remove(nomes_caminhos[col_num])\n",
    "    for col_nom in reversed(list(d['address']['geoLocation'].keys())):\n",
    "        nomes_colunas.insert(col_num, col_nom)\n",
    "        nomes_caminhos.insert(col_num, ['address', 'geoLocation', col_nom])\n",
    "        \n",
    "    col_num = nomes_colunas.index('location')\n",
    "    nomes_colunas.remove(nomes_colunas[col_num])\n",
    "    nomes_caminhos.remove(nomes_caminhos[col_num])\n",
    "    for col_nom in reversed(list(d['address']['geoLocation']['location'].keys())):\n",
    "        nomes_colunas.insert(col_num, col_nom)\n",
    "        nomes_caminhos.insert(col_num, ['address', 'geoLocation', 'location', col_nom])\n",
    "        \n",
    "    col_num = nomes_colunas.index('pricingInfos')\n",
    "    nomes_colunas.remove(nomes_colunas[col_num])\n",
    "    nomes_caminhos.remove(nomes_caminhos[col_num])\n",
    "    for col_nom in reversed(list(d['pricingInfos'].keys())):\n",
    "        nomes_colunas.insert(col_num, col_nom)\n",
    "        nomes_caminhos.insert(col_num, ['pricingInfos', col_nom])\n",
    "    \n",
    "    return [nomes_colunas, nomes_caminhos]"
   ]
  },
  {
   "cell_type": "code",
   "execution_count": 4,
   "metadata": {},
   "outputs": [
    {
     "name": "stdout",
     "output_type": "stream",
     "text": [
      "['usableAreas', 'title', 'createdAt', 'publisherId', 'unitTypes', 'listingStatus', 'id', 'parkingSpaces', 'updatedAt', 'owner', 'country', 'zipCode', 'city', 'streetNumber', 'zone', 'precision', 'lon', 'lat', 'street', 'locationId', 'district', 'unitNumber', 'state', 'neighborhood', 'suites', 'publicationType', 'bathrooms', 'totalAreas', 'bedrooms', 'yearlyIptu', 'price', 'businessType', 'monthlyCondoFee']\n",
      "\n"
     ]
    },
    {
     "data": {
      "text/plain": [
       "[['usableAreas'],\n",
       " ['title'],\n",
       " ['createdAt'],\n",
       " ['publisherId'],\n",
       " ['unitTypes'],\n",
       " ['listingStatus'],\n",
       " ['id'],\n",
       " ['parkingSpaces'],\n",
       " ['updatedAt'],\n",
       " ['owner'],\n",
       " ['address', 'country'],\n",
       " ['address', 'zipCode'],\n",
       " ['address', 'city'],\n",
       " ['address', 'streetNumber'],\n",
       " ['address', 'zone'],\n",
       " ['address', 'geoLocation', 'precision'],\n",
       " ['address', 'geoLocation', 'location', 'lon'],\n",
       " ['address', 'geoLocation', 'location', 'lat'],\n",
       " ['address', 'street'],\n",
       " ['address', 'locationId'],\n",
       " ['address', 'district'],\n",
       " ['address', 'unitNumber'],\n",
       " ['address', 'state'],\n",
       " ['address', 'neighborhood'],\n",
       " ['suites'],\n",
       " ['publicationType'],\n",
       " ['bathrooms'],\n",
       " ['totalAreas'],\n",
       " ['bedrooms'],\n",
       " ['pricingInfos', 'yearlyIptu'],\n",
       " ['pricingInfos', 'price'],\n",
       " ['pricingInfos', 'businessType'],\n",
       " ['pricingInfos', 'monthlyCondoFee']]"
      ]
     },
     "execution_count": 4,
     "metadata": {},
     "output_type": "execute_result"
    }
   ],
   "source": [
    "# Determina o nome de todas as variáveis e seus caminhos.\n",
    "\n",
    "nomes = extrai_nomes(dados_teste[1])\n",
    "print(nomes[0])\n",
    "print('')\n",
    "nomes[1]"
   ]
  },
  {
   "cell_type": "code",
   "execution_count": 5,
   "metadata": {},
   "outputs": [],
   "source": [
    "# Função que extrai os valores de cada variável de um dicionário.\n",
    "# Usa os caminhos definidos pela função extrai_nomes.\n",
    "# Caso não consiga extrair valor, retorna missing.\n",
    "\n",
    "def extrai_valores(d, nomes):\n",
    "    d = d.replace('false', \"'false'\").replace('null', \"'null'\").replace('true', \"'true'\")\n",
    "    d = eval(d)\n",
    "    \n",
    "    valores_colunas = []\n",
    "    \n",
    "    for nome in nomes:\n",
    "        try:\n",
    "            if len(nome) == 1:\n",
    "                valores_colunas.append(d.get(nome[0]))\n",
    "            else: \n",
    "                d_aux = d.copy()\n",
    "                for i in range(len(nome) - 1):\n",
    "                    d_aux = d_aux.get(nome[i])\n",
    "                valores_colunas.append(d_aux.get(nome[i+1]))\n",
    "        except:\n",
    "            valores_colunas.append('')\n",
    "\n",
    "    \n",
    "    id_code = valores_colunas.pop(nomes.index(['id']))\n",
    "    return [id_code, valores_colunas]"
   ]
  },
  {
   "cell_type": "markdown",
   "metadata": {},
   "source": [
    "A célula a seguir não precisa ser executada caso já se possua o arquivo csv que ela gera.\n",
    "(Tempo de execução: 5 a 10 minutos)."
   ]
  },
  {
   "cell_type": "code",
   "execution_count": null,
   "metadata": {},
   "outputs": [],
   "source": [
    "# Extrai os valores dos dados de teste e os armazena em Dataframe.\n",
    "# Salva o Dataframe em um arquivo csv para ser lido mais rapidamente.\n",
    "\n",
    "prim = True\n",
    "ini = 0\n",
    "fim = 1000\n",
    "lim = 16036\n",
    "while fim < lim+1000:\n",
    "    if fim > lim: fim = lim\n",
    "    df_teste = pd.DataFrame(columns=nomes[0])\n",
    "    df_teste.set_index('id', inplace=True)\n",
    "    \n",
    "    for d in dados_teste[ini:fim]:\n",
    "        values = extrai_valores(d, nomes[1])\n",
    "        df_teste.loc[values[0]] = values[1]\n",
    "        \n",
    "    if prim:\n",
    "        df_teste.to_csv(r'df_teste.csv')\n",
    "        prim = False\n",
    "    else: \n",
    "        df_teste.to_csv(r'df_teste.csv', mode='a', header=False)\n",
    "        \n",
    "    ini = fim\n",
    "    fim = fim + 1000"
   ]
  },
  {
   "cell_type": "code",
   "execution_count": 6,
   "metadata": {},
   "outputs": [
    {
     "name": "stdout",
     "output_type": "stream",
     "text": [
      "<class 'pandas.core.frame.DataFrame'>\n",
      "Index: 16036 entries, 89224365f8 to 6eff844836\n",
      "Data columns (total 32 columns):\n",
      "usableAreas        16029 non-null float64\n",
      "title              16036 non-null object\n",
      "createdAt          16036 non-null object\n",
      "publisherId        16036 non-null object\n",
      "unitTypes          16036 non-null object\n",
      "listingStatus      16036 non-null object\n",
      "parkingSpaces      15772 non-null float64\n",
      "updatedAt          15338 non-null object\n",
      "owner              16036 non-null bool\n",
      "country            1533 non-null object\n",
      "zipCode            15398 non-null object\n",
      "city               16036 non-null object\n",
      "streetNumber       10757 non-null object\n",
      "zone               1946 non-null object\n",
      "precision          16033 non-null object\n",
      "lon                16033 non-null float64\n",
      "lat                16033 non-null float64\n",
      "street             15316 non-null object\n",
      "locationId         16036 non-null object\n",
      "district           0 non-null float64\n",
      "unitNumber         7 non-null object\n",
      "state              16036 non-null object\n",
      "neighborhood       16031 non-null object\n",
      "suites             14641 non-null float64\n",
      "publicationType    16036 non-null object\n",
      "bathrooms          16035 non-null float64\n",
      "totalAreas         9942 non-null float64\n",
      "bedrooms           16036 non-null int64\n",
      "yearlyIptu         13639 non-null float64\n",
      "price              0 non-null float64\n",
      "businessType       16036 non-null object\n",
      "monthlyCondoFee    15100 non-null float64\n",
      "dtypes: bool(1), float64(11), int64(1), object(19)\n",
      "memory usage: 3.9+ MB\n"
     ]
    }
   ],
   "source": [
    "# Lê o arquivo csv com os dados de teste e armazena em um novo DataFrame.\n",
    "\n",
    "df_teste = pd.read_csv('df_teste.csv', dtype={'zipCode': object})\n",
    "df_teste.set_index('id', inplace=True)\n",
    "df_teste.info()"
   ]
  },
  {
   "cell_type": "markdown",
   "metadata": {},
   "source": [
    "A célula a seguir não precisa ser executada caso já se possua o arquivo csv que ela gera.\n",
    "(Tempo de execução: 20 a 40 minutos)."
   ]
  },
  {
   "cell_type": "code",
   "execution_count": null,
   "metadata": {},
   "outputs": [],
   "source": [
    "# Extrai os valores dos dados de treino e os armazena em Dataframe.\n",
    "# Salva o Dataframe em um arquivo csv para ser lido mais rapidamente.\n",
    "\n",
    "prim = True\n",
    "ini = 0\n",
    "fim = 1000\n",
    "lim = 133965\n",
    "while fim < lim+1000:\n",
    "    if fim > lim: fim = lim\n",
    "    df_treino = pd.DataFrame(columns=nomes[0])\n",
    "    df_treino.set_index('id', inplace=True)\n",
    "    \n",
    "    for d in dados_treino[ini:fim]:\n",
    "        values = extrai_valores(d, nomes[1])\n",
    "        df_treino.loc[values[0]] = values[1]\n",
    "        \n",
    "    if prim:\n",
    "        df_treino.to_csv(r'df_treino.csv')\n",
    "        prim = False\n",
    "    else: \n",
    "        df_treino.to_csv(r'df_treino.csv', mode='a', header=False)\n",
    "        \n",
    "    ini = fim\n",
    "    fim = fim + 1000"
   ]
  },
  {
   "cell_type": "code",
   "execution_count": 7,
   "metadata": {},
   "outputs": [
    {
     "name": "stdout",
     "output_type": "stream",
     "text": [
      "<class 'pandas.core.frame.DataFrame'>\n",
      "Index: 133964 entries, 787c7bd19d to 70901404f3\n",
      "Data columns (total 32 columns):\n",
      "usableAreas        133211 non-null float64\n",
      "title              133964 non-null object\n",
      "createdAt          133964 non-null object\n",
      "publisherId        133964 non-null object\n",
      "unitTypes          133964 non-null object\n",
      "listingStatus      133964 non-null object\n",
      "parkingSpaces      129539 non-null float64\n",
      "updatedAt          127367 non-null object\n",
      "owner              133964 non-null bool\n",
      "country            13852 non-null object\n",
      "zipCode            128056 non-null object\n",
      "city               133964 non-null object\n",
      "streetNumber       89823 non-null object\n",
      "zone               17699 non-null object\n",
      "precision          133953 non-null object\n",
      "lon                133953 non-null float64\n",
      "lat                133953 non-null float64\n",
      "street             126962 non-null object\n",
      "locationId         133964 non-null object\n",
      "district           13 non-null object\n",
      "unitNumber         31 non-null object\n",
      "state              133961 non-null object\n",
      "neighborhood       133943 non-null object\n",
      "suites             120347 non-null float64\n",
      "publicationType    133964 non-null object\n",
      "bathrooms          133051 non-null float64\n",
      "totalAreas         91132 non-null float64\n",
      "bedrooms           130945 non-null float64\n",
      "yearlyIptu         114612 non-null float64\n",
      "price              133964 non-null int64\n",
      "businessType       133964 non-null object\n",
      "monthlyCondoFee    117127 non-null float64\n",
      "dtypes: bool(1), float64(10), int64(1), object(20)\n",
      "memory usage: 32.8+ MB\n"
     ]
    }
   ],
   "source": [
    "# Lê o arquivo csv com os dados de treino e armazena em um novo DataFrame.\n",
    "\n",
    "df_treino = pd.read_csv('df_treino.csv', dtype={'zipCode': object}, low_memory=False)\n",
    "df_treino.set_index('id', inplace=True)\n",
    "df_treino.info()"
   ]
  },
  {
   "cell_type": "markdown",
   "metadata": {},
   "source": [
    "# 2) Feature Engineering"
   ]
  },
  {
   "cell_type": "markdown",
   "metadata": {},
   "source": [
    "**Resumo:**\n",
    "* Cada variável será analisada individualmente.\n",
    "* Dependendo de suas características e de suas informações, será excluída do processo de construção do modelo de previsão.\n",
    "* Caso seja escolhida, será realizado um processo de **Feature Engineering**, que envolve:\n",
    "    * Tratar valores missing;\n",
    "    * Tratar outliers;\n",
    "    * No caso devariáveis numéricas, ajustar a escala;\n",
    "    * No caso de variáveis categóricas, codificar em binário."
   ]
  },
  {
   "cell_type": "markdown",
   "metadata": {},
   "source": [
    "## 2.1) unitTypes"
   ]
  },
  {
   "cell_type": "markdown",
   "metadata": {},
   "source": [
    "* Todos os anúncios do conjunto de testes são de apartamentos.\n",
    "* Portanto, o conjunto de treino será composto apenas dos apartamentos (outros tipos de imóvel serão excluídos).\n",
    "* Como todos os valores serão APARTMENT, esta variável não será usada no modelo."
   ]
  },
  {
   "cell_type": "code",
   "execution_count": 8,
   "metadata": {},
   "outputs": [
    {
     "data": {
      "text/plain": [
       "unitTypes\n",
       "APARTMENT                     72241\n",
       "BUSINESS                        663\n",
       "CLINIC                           33\n",
       "COMMERCIAL_ALLOTMENT_LAND       807\n",
       "COMMERCIAL_BUILDING              85\n",
       "COMMERCIAL_PROPERTY            5871\n",
       "CONDOMINIUM                    4015\n",
       "COUNTRY_HOUSE                     9\n",
       "FARM                             10\n",
       "FLAT                           7661\n",
       "HOME                           9030\n",
       "KITNET                          522\n",
       "OFFICE                         7714\n",
       "PENTHOUSE                      2772\n",
       "RESIDENTIAL_ALLOTMENT_LAND     1430\n",
       "RESIDENTIAL_BUILDING            142\n",
       "SHED_DEPOSIT_WAREHOUSE         2197\n",
       "STORE                           694\n",
       "TWO_STORY_HOUSE               18068\n",
       "dtype: int64"
      ]
     },
     "execution_count": 8,
     "metadata": {},
     "output_type": "execute_result"
    }
   ],
   "source": [
    "# Distribuição de frequências da variável (conj. treino)\n",
    "df_treino.groupby('unitTypes').size()"
   ]
  },
  {
   "cell_type": "code",
   "execution_count": 9,
   "metadata": {},
   "outputs": [
    {
     "data": {
      "text/plain": [
       "unitTypes\n",
       "APARTMENT    16036\n",
       "dtype: int64"
      ]
     },
     "execution_count": 9,
     "metadata": {},
     "output_type": "execute_result"
    }
   ],
   "source": [
    "# Distribuição de frequências da variável (conj. teste)\n",
    "df_teste.groupby('unitTypes').size()"
   ]
  },
  {
   "cell_type": "code",
   "execution_count": 10,
   "metadata": {},
   "outputs": [],
   "source": [
    "# Selecionar apenas imóveis do tipo APARTAMENT no conj. treino\n",
    "df_treino = df_treino[df_treino.unitTypes == 'APARTMENT']"
   ]
  },
  {
   "cell_type": "code",
   "execution_count": 11,
   "metadata": {},
   "outputs": [
    {
     "data": {
      "text/plain": [
       "unitTypes\n",
       "APARTMENT    72241\n",
       "dtype: int64"
      ]
     },
     "execution_count": 11,
     "metadata": {},
     "output_type": "execute_result"
    }
   ],
   "source": [
    "# NOVA distribuição de frequências da variável (conj. treino)\n",
    "df_treino.groupby('unitTypes').size()"
   ]
  },
  {
   "cell_type": "markdown",
   "metadata": {},
   "source": [
    "## 2.2) businessType"
   ]
  },
  {
   "cell_type": "markdown",
   "metadata": {},
   "source": [
    "* Todos os anúncios do conjunto de testes são de vendas (SALE).\n",
    "* Portanto, o conjunto de treino será composteo apenas de vendas (outros tipos de naegócio serão excluídos).\n",
    "* Como todos os valores serão SALE, esta variável não será usada no modelo."
   ]
  },
  {
   "cell_type": "code",
   "execution_count": 12,
   "metadata": {},
   "outputs": [
    {
     "data": {
      "text/plain": [
       "businessType\n",
       "RENTAL     8095\n",
       "SALE      64146\n",
       "dtype: int64"
      ]
     },
     "execution_count": 12,
     "metadata": {},
     "output_type": "execute_result"
    }
   ],
   "source": [
    "# Distribuição de frequências da variável (conj. treino)\n",
    "df_treino.groupby('businessType').size()"
   ]
  },
  {
   "cell_type": "code",
   "execution_count": 13,
   "metadata": {},
   "outputs": [
    {
     "data": {
      "text/plain": [
       "businessType\n",
       "SALE    16036\n",
       "dtype: int64"
      ]
     },
     "execution_count": 13,
     "metadata": {},
     "output_type": "execute_result"
    }
   ],
   "source": [
    "# Distribuição de frequências da variável (conj. teste)\n",
    "df_teste.groupby('businessType').size()"
   ]
  },
  {
   "cell_type": "code",
   "execution_count": 14,
   "metadata": {},
   "outputs": [],
   "source": [
    "# Selecionar apenas naegócios do tipo SALE no conj. treino\n",
    "df_treino = df_treino[df_treino.businessType == 'SALE']"
   ]
  },
  {
   "cell_type": "code",
   "execution_count": 15,
   "metadata": {},
   "outputs": [
    {
     "data": {
      "text/plain": [
       "businessType\n",
       "SALE    64146\n",
       "dtype: int64"
      ]
     },
     "execution_count": 15,
     "metadata": {},
     "output_type": "execute_result"
    }
   ],
   "source": [
    "# NOVA distribuição de frequências da variável (conj. treino)\n",
    "df_treino.groupby('businessType').size()"
   ]
  },
  {
   "cell_type": "markdown",
   "metadata": {},
   "source": [
    "## 2.3) price"
   ]
  },
  {
   "cell_type": "markdown",
   "metadata": {},
   "source": [
    "* __Variável de saída que será prevista pelo modelo.__\n",
    "* Não há valores missing.\n",
    "* Um preço de $74,2 milhões será considerado um erro de digitação: seu valor será dividido por 10."
   ]
  },
  {
   "cell_type": "code",
   "execution_count": 16,
   "metadata": {},
   "outputs": [
    {
     "data": {
      "text/plain": [
       "False    64146\n",
       "Name: price, dtype: int64"
      ]
     },
     "execution_count": 16,
     "metadata": {},
     "output_type": "execute_result"
    }
   ],
   "source": [
    "# Verifica quantidade de valores missing.\n",
    "df_treino['price'].isna().value_counts()"
   ]
  },
  {
   "cell_type": "code",
   "execution_count": 17,
   "metadata": {},
   "outputs": [
    {
     "data": {
      "text/plain": [
       "count    6.414600e+04\n",
       "mean     7.633575e+05\n",
       "std      1.047635e+06\n",
       "min      1.050000e+04\n",
       "25%      2.730000e+05\n",
       "50%      4.654990e+05\n",
       "75%      8.585850e+05\n",
       "max      7.420000e+07\n",
       "Name: price, dtype: float64"
      ]
     },
     "execution_count": 17,
     "metadata": {},
     "output_type": "execute_result"
    }
   ],
   "source": [
    "# Estatísticas da variável.\n",
    "df_treino['price'].describe()"
   ]
  },
  {
   "cell_type": "code",
   "execution_count": 18,
   "metadata": {},
   "outputs": [
    {
     "data": {
      "text/plain": [
       "id\n",
       "603c42bca6    74200000\n",
       "Name: price, dtype: int64"
      ]
     },
     "execution_count": 18,
     "metadata": {},
     "output_type": "execute_result"
    }
   ],
   "source": [
    "# Possível outlier.\n",
    "df_treino[df_treino.price > 7e7]['price']"
   ]
  },
  {
   "cell_type": "code",
   "execution_count": 19,
   "metadata": {},
   "outputs": [
    {
     "data": {
      "text/plain": [
       "usableAreas                                                      190\n",
       "title                                         APARTAMENTO NO JARDINS\n",
       "createdAt                                       2014-10-14T14:34:48Z\n",
       "publisherId                                               3b4a8e6e45\n",
       "unitTypes                                                  APARTMENT\n",
       "listingStatus                                                 ACTIVE\n",
       "parkingSpaces                                                      2\n",
       "updatedAt                                   2018-11-08T14:29:53.246Z\n",
       "owner                                                          False\n",
       "country                                                          NaN\n",
       "zipCode                                                     01404001\n",
       "city                                                       São Paulo\n",
       "streetNumber                                                     NaN\n",
       "zone                                                             NaN\n",
       "precision                                           GEOMETRIC_CENTER\n",
       "lon                                                         -46.6554\n",
       "lat                                                         -23.5681\n",
       "street                                              Alameda Campinas\n",
       "locationId         BR>Sao Paulo>NULL>Sao Paulo>Zona Sul>Jardim Pa...\n",
       "district                                                         NaN\n",
       "unitNumber                                                       NaN\n",
       "state                                                      São Paulo\n",
       "neighborhood                                         Jardim Paulista\n",
       "suites                                                             1\n",
       "publicationType                                             STANDARD\n",
       "bathrooms                                                          2\n",
       "totalAreas                                                       190\n",
       "bedrooms                                                           3\n",
       "yearlyIptu                                                       350\n",
       "price                                                       74200000\n",
       "businessType                                                    SALE\n",
       "monthlyCondoFee                                                 1260\n",
       "Name: 603c42bca6, dtype: object"
      ]
     },
     "execution_count": 19,
     "metadata": {},
     "output_type": "execute_result"
    }
   ],
   "source": [
    "# Imóvel com preço anormalmente alto.\n",
    "# Pelo tamanho e localização do imóvel, o preço de 74 milhoes não se justifica.\n",
    "df_treino.loc['603c42bca6']"
   ]
  },
  {
   "cell_type": "code",
   "execution_count": 20,
   "metadata": {},
   "outputs": [],
   "source": [
    "# Considerando que o imóvel acima teve seu preço digitado errado, divide-se seu valor por 10.\n",
    "df_treino.loc['603c42bca6', 'price'] = df_treino.loc['603c42bca6', 'price']/10"
   ]
  },
  {
   "cell_type": "code",
   "execution_count": 21,
   "metadata": {},
   "outputs": [
    {
     "data": {
      "text/plain": [
       "Text(0.5,0.98,' Histograma Price - conjunto de treino')"
      ]
     },
     "execution_count": 21,
     "metadata": {},
     "output_type": "execute_result"
    },
    {
     "data": {
      "image/png": "[encoded data removed]",
      "text/plain": [
       "<Figure size 432x288 with 1 Axes>"
      ]
     },
     "metadata": {},
     "output_type": "display_data"
    }
   ],
   "source": [
    "# Visualização dos preços: Histograma.\n",
    "df_treino.price.hist(bins=500)\n",
    "plt.suptitle(' Histograma Price - conjunto de treino')"
   ]
  },
  {
   "cell_type": "markdown",
   "metadata": {},
   "source": [
    "## 2.4) usableAreas"
   ]
  },
  {
   "cell_type": "markdown",
   "metadata": {},
   "source": [
    "* Variável numérica: a alta quantidade de valores únicos não é problema.\n",
    "* Valores nulos: são muito raros (aprox. 0,0125%) serão substituídos pela mediana do conjunto de treino.\n",
    "* Outliers: valores acima de (média + 2*desvio padrão) são outliers: todos eles serão reduzidos a tal valor.\n",
    "    * **Esta prática impede que valores altos e raros enviezem o modelo.**\n",
    "* Observa-se que a variável possui distribuição aproximadamente normal.\n",
    "* Observa-se que o preço do imóvel tende a aumentar com o aumento de usableAreas: provavelmente será uma feature importante.\n",
    "* Transformação \"Standardize\": impede que a escala da variável influencie o modelo."
   ]
  },
  {
   "cell_type": "code",
   "execution_count": 22,
   "metadata": {},
   "outputs": [
    {
     "data": {
      "text/plain": [
       "False    64138\n",
       "True         8\n",
       "Name: usableAreas, dtype: int64"
      ]
     },
     "execution_count": 22,
     "metadata": {},
     "output_type": "execute_result"
    }
   ],
   "source": [
    "# Verifica quantidade de valores missing.\n",
    "df_treino.usableAreas.isna().value_counts()"
   ]
  },
  {
   "cell_type": "code",
   "execution_count": 23,
   "metadata": {},
   "outputs": [
    {
     "data": {
      "text/plain": [
       "count     64138.000000\n",
       "mean        116.330101\n",
       "std         631.949834\n",
       "min           0.000000\n",
       "25%          59.000000\n",
       "50%          82.000000\n",
       "75%         135.000000\n",
       "max      129000.000000\n",
       "Name: usableAreas, dtype: float64"
      ]
     },
     "execution_count": 23,
     "metadata": {},
     "output_type": "execute_result"
    }
   ],
   "source": [
    "# Métricas estatísticas\n",
    "desc = df_treino['usableAreas'].describe()\n",
    "desc"
   ]
  },
  {
   "cell_type": "code",
   "execution_count": 24,
   "metadata": {},
   "outputs": [
    {
     "data": {
      "text/plain": [
       "82.0"
      ]
     },
     "execution_count": 24,
     "metadata": {},
     "output_type": "execute_result"
    }
   ],
   "source": [
    "# Mediana do conjunto de treino.\n",
    "med = df_treino['usableAreas'].median()\n",
    "med"
   ]
  },
  {
   "cell_type": "code",
   "execution_count": 25,
   "metadata": {},
   "outputs": [],
   "source": [
    "# Substitui valores missing dos conjuntos de treino e de testes pela mediana do conjunto de treino.\n",
    "df_treino['usableAreas'] = df_treino['usableAreas'].apply(lambda x: med if pd.isna(x) else x)\n",
    "df_teste['usableAreas'] = df_teste['usableAreas'].apply(lambda x: med if pd.isna(x) else x)"
   ]
  },
  {
   "cell_type": "code",
   "execution_count": 26,
   "metadata": {},
   "outputs": [
    {
     "data": {
      "text/plain": [
       "1380.2297685619603"
      ]
     },
     "execution_count": 26,
     "metadata": {},
     "output_type": "execute_result"
    }
   ],
   "source": [
    "# Outlier = média + 2*desvio padrão do conjunto de treino.\n",
    "lim = desc[1] + 2*desc[2]\n",
    "lim"
   ]
  },
  {
   "cell_type": "code",
   "execution_count": 27,
   "metadata": {},
   "outputs": [],
   "source": [
    "# Remoção de outliers dos conjuntos de treino e de testes usando outlier do conjunto de treino.\n",
    "df_treino['usableAreas'] = df_treino['usableAreas'].apply(lambda x: lim if x > lim else x)\n",
    "df_teste['usableAreas'] = df_teste['usableAreas'].apply(lambda x: lim if x > lim else x)"
   ]
  },
  {
   "cell_type": "code",
   "execution_count": 28,
   "metadata": {},
   "outputs": [
    {
     "data": {
      "text/plain": [
       "[112.46181768501145, 87.54364065884856]"
      ]
     },
     "execution_count": 28,
     "metadata": {},
     "output_type": "execute_result"
    }
   ],
   "source": [
    "# Média e desvio padrão do conjunto de treino.\n",
    "avg = df_treino['usableAreas'].mean()\n",
    "std = df_treino['usableAreas'].std()\n",
    "[avg, std]"
   ]
  },
  {
   "cell_type": "code",
   "execution_count": 29,
   "metadata": {},
   "outputs": [],
   "source": [
    "# Transformação \"Standardize\" dos conjuntos de treino e de testes usando média e desvio padrão do conjunto de treino.\n",
    "df_treino['usableAreas'] = df_treino['usableAreas'].apply(lambda x: (x - avg)/std)\n",
    "df_teste['usableAreas'] = df_teste['usableAreas'].apply(lambda x: (x - avg)/std)"
   ]
  },
  {
   "cell_type": "code",
   "execution_count": 30,
   "metadata": {},
   "outputs": [
    {
     "data": {
      "text/plain": [
       "Text(0.5,0.98,'Histograma usableAreas - conjunto de treino')"
      ]
     },
     "execution_count": 30,
     "metadata": {},
     "output_type": "execute_result"
    },
    {
     "data": {
      "image/png": "[encoded data removed]",
      "text/plain": [
       "<Figure size 432x288 with 1 Axes>"
      ]
     },
     "metadata": {},
     "output_type": "display_data"
    },
    {
     "data": {
      "image/png": "[encoded data removed]",
      "text/plain": [
       "<Figure size 432x288 with 1 Axes>"
      ]
     },
     "metadata": {},
     "output_type": "display_data"
    }
   ],
   "source": [
    "# Histogramas\n",
    "df_treino['usableAreas'].hist(bins=1000)\n",
    "plt.suptitle('Histograma usableAreas - conjunto de treino')\n",
    "plt.figure()\n",
    "df_teste['usableAreas'].hist(bins=1000)\n",
    "plt.suptitle('Histograma usableAreas - conjunto de treino')"
   ]
  },
  {
   "cell_type": "code",
   "execution_count": 31,
   "metadata": {},
   "outputs": [
    {
     "data": {
      "text/plain": [
       "Text(0.5,0.98,'Scatter Plot price x usableAreas - conjunto de treino')"
      ]
     },
     "execution_count": 31,
     "metadata": {},
     "output_type": "execute_result"
    },
    {
     "data": {
      "image/png": "[encoded data removed]",
      "text/plain": [
       "<Figure size 432x288 with 1 Axes>"
      ]
     },
     "metadata": {},
     "output_type": "display_data"
    }
   ],
   "source": [
    "# SCATTER PLOT relacionado variável ao preço.\n",
    "df_treino.plot.scatter(x='usableAreas', y='price')\n",
    "plt.suptitle('Scatter Plot price x usableAreas - conjunto de treino')"
   ]
  },
  {
   "cell_type": "markdown",
   "metadata": {},
   "source": [
    "## 2.5) title, createdAt, updatedAt"
   ]
  },
  {
   "cell_type": "markdown",
   "metadata": {},
   "source": [
    "* Nenhuma destas variáveis parece ter muita informação que possa ser útil.\n",
    "* Não serão usadas neste trabalho."
   ]
  },
  {
   "cell_type": "markdown",
   "metadata": {},
   "source": [
    "## 2.6) publisherId"
   ]
  },
  {
   "cell_type": "markdown",
   "metadata": {},
   "source": [
    "* Existem 2851 publicadores únicos no conjunto de treino. É possível que haja publicadores no conjunto de testes que não estejam no conjunto de treino.\n",
    "* Parece pouco provável que haja informações úteis nesta variável. Por exemplo, os principais publicadores parecem ser imobiliárias. Tais empresas trabalham com imóveis em diversas faixas de preço, então não se espera que sirvam como bom atributo ao modelo de previsão.\n",
    "* Por fim, trata-se de uma **variável categórica e nominal** (ou seja, não há uma sequência implícita de valores) que é praticamente impossível de codificar, mesmo usando one hot encode.\n",
    "* Não será usada neste trabalho."
   ]
  },
  {
   "cell_type": "code",
   "execution_count": 32,
   "metadata": {},
   "outputs": [
    {
     "data": {
      "text/plain": [
       "False    64146\n",
       "Name: publisherId, dtype: int64"
      ]
     },
     "execution_count": 32,
     "metadata": {},
     "output_type": "execute_result"
    }
   ],
   "source": [
    "# Verifica quantidade de valores missing.\n",
    "df_treino['publisherId'].isna().value_counts()"
   ]
  },
  {
   "cell_type": "code",
   "execution_count": 33,
   "metadata": {},
   "outputs": [
    {
     "data": {
      "text/plain": [
       "2851"
      ]
     },
     "execution_count": 33,
     "metadata": {},
     "output_type": "execute_result"
    }
   ],
   "source": [
    "# Verifica quantidade de valores únicos.\n",
    "len(df_treino['publisherId'].unique())"
   ]
  },
  {
   "cell_type": "code",
   "execution_count": 34,
   "metadata": {},
   "outputs": [
    {
     "data": {
      "text/plain": [
       "a8b38b03a8    1595\n",
       "d7190e8f4c    1299\n",
       "4078ef08b4     978\n",
       "19ddf2ccb1     940\n",
       "0ec61496e4     858\n",
       "df07b0b37e     812\n",
       "bddebf057a     664\n",
       "6da0a148b1     622\n",
       "e8dc040d2d     596\n",
       "e7529c4598     504\n",
       "69ca10c568     456\n",
       "20b0869949     439\n",
       "ad38ca2156     405\n",
       "c0de129662     385\n",
       "7ba9a1a725     383\n",
       "c1df40763f     378\n",
       "af8444aba5     361\n",
       "316d75f06f     361\n",
       "b40756a11e     335\n",
       "0d8a4eceb9     327\n",
       "e78fd32343     318\n",
       "e0fff23659     308\n",
       "afbfad0d12     303\n",
       "73f436c21a     293\n",
       "57ea499156     290\n",
       "047cca6ebd     290\n",
       "f0fc49dfea     279\n",
       "d2adb7f92a     272\n",
       "523bc6c388     272\n",
       "149e431603     271\n",
       "              ... \n",
       "a4d0a99cc2       1\n",
       "5d1405babb       1\n",
       "92403c7d2b       1\n",
       "92b759b178       1\n",
       "9fa297db8b       1\n",
       "b7874fa755       1\n",
       "8166aebe0c       1\n",
       "278f15e682       1\n",
       "22e71c6b79       1\n",
       "ef062c0210       1\n",
       "45677aab19       1\n",
       "904bdf46e5       1\n",
       "d9619afdcc       1\n",
       "4c1e7a5f15       1\n",
       "0e69f923e2       1\n",
       "2dc26533f8       1\n",
       "293fe54748       1\n",
       "fe51b1bebb       1\n",
       "4f7da9a3b6       1\n",
       "79ac558221       1\n",
       "bf74b25a94       1\n",
       "3edd9eb53f       1\n",
       "77ffdd6dd6       1\n",
       "34609d6aa6       1\n",
       "6edd033632       1\n",
       "1807c781f3       1\n",
       "62dd81ac46       1\n",
       "2dece17f7a       1\n",
       "e814a5d375       1\n",
       "b7b8fd1804       1\n",
       "Name: publisherId, Length: 2851, dtype: int64"
      ]
     },
     "execution_count": 34,
     "metadata": {},
     "output_type": "execute_result"
    }
   ],
   "source": [
    "# Distribuição de Frequências da variável.\n",
    "df_treino['publisherId'].value_counts()"
   ]
  },
  {
   "cell_type": "markdown",
   "metadata": {},
   "source": [
    "## 2.7) listingStatus"
   ]
  },
  {
   "cell_type": "markdown",
   "metadata": {},
   "source": [
    "* Todos são ACTIVE.\n",
    "* Não será usada neste trabalho."
   ]
  },
  {
   "cell_type": "code",
   "execution_count": 35,
   "metadata": {},
   "outputs": [
    {
     "data": {
      "text/plain": [
       "False    64146\n",
       "Name: listingStatus, dtype: int64"
      ]
     },
     "execution_count": 35,
     "metadata": {},
     "output_type": "execute_result"
    }
   ],
   "source": [
    "# Verifica quantidade de valores missing.\n",
    "df_treino['listingStatus'].isna().value_counts()"
   ]
  },
  {
   "cell_type": "code",
   "execution_count": 36,
   "metadata": {},
   "outputs": [
    {
     "data": {
      "text/plain": [
       "listingStatus\n",
       "ACTIVE    64146\n",
       "dtype: int64"
      ]
     },
     "execution_count": 36,
     "metadata": {},
     "output_type": "execute_result"
    }
   ],
   "source": [
    "# Distribuição de Frequências da variável (conj. treino).\n",
    "df_treino.groupby('listingStatus').size()"
   ]
  },
  {
   "cell_type": "code",
   "execution_count": 37,
   "metadata": {},
   "outputs": [
    {
     "data": {
      "text/plain": [
       "listingStatus\n",
       "ACTIVE    16036\n",
       "dtype: int64"
      ]
     },
     "execution_count": 37,
     "metadata": {},
     "output_type": "execute_result"
    }
   ],
   "source": [
    "# Distribuição de Frequências da variável (conj. teste).\n",
    "df_teste.groupby('listingStatus').size()"
   ]
  },
  {
   "cell_type": "markdown",
   "metadata": {},
   "source": [
    "## 2.8) parkingSpaces"
   ]
  },
  {
   "cell_type": "markdown",
   "metadata": {},
   "source": [
    "* Variável numérica.\n",
    "* Valores nulos: (aprox. 1,76%) serão substituídos pela mediana do conjunto de treino.\n",
    "* Outliers: valores acima de média + 3*desvio padrão são outliers: todos eles serão reduzidos a tal valor.\n",
    "    * **Esta prática impede que valores altos e raros enviezem o modelo.**\n",
    "* Observa-se que a variável possui distribuição aproximadamente normal.\n",
    "* Observa-se que o preço do imóvel tende a aumentar com o aumento de parkingSpaces, mas de forma apenas moderada.\n",
    "* Transformação \"Normalize\"."
   ]
  },
  {
   "cell_type": "code",
   "execution_count": 38,
   "metadata": {},
   "outputs": [
    {
     "data": {
      "text/plain": [
       "False    63018\n",
       "True      1128\n",
       "Name: parkingSpaces, dtype: int64"
      ]
     },
     "execution_count": 38,
     "metadata": {},
     "output_type": "execute_result"
    }
   ],
   "source": [
    "# Verifica quantidade de valores missing.\n",
    "df_treino['parkingSpaces'].isna().value_counts()"
   ]
  },
  {
   "cell_type": "code",
   "execution_count": 39,
   "metadata": {},
   "outputs": [
    {
     "data": {
      "text/plain": [
       "parkingSpaces\n",
       "0.0       3256\n",
       "1.0      29724\n",
       "2.0      17992\n",
       "3.0       6576\n",
       "4.0       3800\n",
       "5.0       1088\n",
       "6.0        399\n",
       "7.0        102\n",
       "8.0         39\n",
       "9.0         10\n",
       "10.0         8\n",
       "11.0         5\n",
       "12.0         9\n",
       "13.0         2\n",
       "14.0         2\n",
       "19.0         1\n",
       "30.0         1\n",
       "32.0         1\n",
       "70.0         1\n",
       "99.0         1\n",
       "215.0        1\n",
       "dtype: int64"
      ]
     },
     "execution_count": 39,
     "metadata": {},
     "output_type": "execute_result"
    }
   ],
   "source": [
    "# Distribuição de Frequências da variável.\n",
    "df_treino.groupby('parkingSpaces').size()"
   ]
  },
  {
   "cell_type": "code",
   "execution_count": 40,
   "metadata": {},
   "outputs": [
    {
     "data": {
      "text/plain": [
       "1.0"
      ]
     },
     "execution_count": 40,
     "metadata": {},
     "output_type": "execute_result"
    }
   ],
   "source": [
    "# Mediana do conjunto de treino.\n",
    "med = df_treino['parkingSpaces'].median()\n",
    "med"
   ]
  },
  {
   "cell_type": "code",
   "execution_count": 41,
   "metadata": {},
   "outputs": [],
   "source": [
    "# Substitui valores missing dos conjuntos de treino e de testes pela mediana do conjunto de treino.\n",
    "df_treino['parkingSpaces'] = df_treino['parkingSpaces'].apply(lambda x: med if pd.isna(x) else x)\n",
    "df_teste['parkingSpaces'] = df_teste['parkingSpaces'].apply(lambda x: med if pd.isna(x) else x)"
   ]
  },
  {
   "cell_type": "code",
   "execution_count": 42,
   "metadata": {},
   "outputs": [
    {
     "data": {
      "text/plain": [
       "count    64146.000000\n",
       "mean         1.737848\n",
       "std          1.506530\n",
       "min          0.000000\n",
       "25%          1.000000\n",
       "50%          1.000000\n",
       "75%          2.000000\n",
       "max        215.000000\n",
       "Name: parkingSpaces, dtype: float64"
      ]
     },
     "execution_count": 42,
     "metadata": {},
     "output_type": "execute_result"
    }
   ],
   "source": [
    "# Estatísticas da variável.\n",
    "df_treino.parkingSpaces.describe()"
   ]
  },
  {
   "cell_type": "code",
   "execution_count": 43,
   "metadata": {},
   "outputs": [],
   "source": [
    "# Outlier: media + 3*desvio padrão = 6,29 => usar outlier = 7\n",
    "lim = 7"
   ]
  },
  {
   "cell_type": "code",
   "execution_count": 44,
   "metadata": {},
   "outputs": [],
   "source": [
    "# Remoção de outliers dos conjuntos de treino e de testes usando outlier do conjunto de treino.\n",
    "df_treino['parkingSpaces'] = df_treino['parkingSpaces'].apply(lambda x: lim if x > lim else x)\n",
    "df_teste['parkingSpaces'] = df_teste['parkingSpaces'].apply(lambda x: lim if x > lim else x)"
   ]
  },
  {
   "cell_type": "code",
   "execution_count": 45,
   "metadata": {},
   "outputs": [
    {
     "data": {
      "text/plain": [
       "[0.0, 7.0]"
      ]
     },
     "execution_count": 45,
     "metadata": {},
     "output_type": "execute_result"
    }
   ],
   "source": [
    "# Valores mínimo e máximo do conjunto de treino.\n",
    "mini = df_treino['parkingSpaces'].min()\n",
    "maxi = df_treino['parkingSpaces'].max()\n",
    "[mini, maxi]"
   ]
  },
  {
   "cell_type": "code",
   "execution_count": 46,
   "metadata": {},
   "outputs": [],
   "source": [
    "# Transformação \"Normalize\" dos conjuntos de treino e de testes usando mínimo e máximo do conjunto de treino.\n",
    "df_treino['parkingSpaces'] = df_treino['parkingSpaces'].apply(lambda x: (x - mini)/(maxi - mini))\n",
    "df_teste['parkingSpaces'] = df_teste['parkingSpaces'].apply(lambda x: (x - mini)/(maxi - mini))"
   ]
  },
  {
   "cell_type": "code",
   "execution_count": 47,
   "metadata": {},
   "outputs": [
    {
     "data": {
      "text/plain": [
       "Text(0.5,0.98,'Histograma parkingSpaces - conjunto de treino')"
      ]
     },
     "execution_count": 47,
     "metadata": {},
     "output_type": "execute_result"
    },
    {
     "data": {
      "image/png": "[encoded data removed]",
      "text/plain": [
       "<Figure size 432x288 with 1 Axes>"
      ]
     },
     "metadata": {},
     "output_type": "display_data"
    },
    {
     "data": {
      "image/png": "[encoded data removed]",
      "text/plain": [
       "<Figure size 432x288 with 1 Axes>"
      ]
     },
     "metadata": {},
     "output_type": "display_data"
    }
   ],
   "source": [
    "# Histogramas\n",
    "df_treino['parkingSpaces'].hist(bins=lim+1)\n",
    "plt.suptitle('Histograma parkingSpaces - conjunto de treino')\n",
    "plt.figure()\n",
    "df_teste['parkingSpaces'].hist(bins=lim+1)\n",
    "plt.suptitle('Histograma parkingSpaces - conjunto de treino')"
   ]
  },
  {
   "cell_type": "code",
   "execution_count": 48,
   "metadata": {},
   "outputs": [
    {
     "data": {
      "text/plain": [
       "Text(0.5,0.98,'Scatter Plot price x parkingSpaces - conjunto de treino')"
      ]
     },
     "execution_count": 48,
     "metadata": {},
     "output_type": "execute_result"
    },
    {
     "data": {
      "image/png": "[encoded data removed]",
      "text/plain": [
       "<Figure size 432x288 with 1 Axes>"
      ]
     },
     "metadata": {},
     "output_type": "display_data"
    }
   ],
   "source": [
    "# SCATTER PLOT relacionado variável ao preço.\n",
    "df_treino.plot.scatter(x='parkingSpaces', y='price')\n",
    "plt.suptitle('Scatter Plot price x parkingSpaces - conjunto de treino')"
   ]
  },
  {
   "cell_type": "markdown",
   "metadata": {},
   "source": [
    "## 2.9) owner"
   ]
  },
  {
   "cell_type": "markdown",
   "metadata": {},
   "source": [
    "* Os valores True são extremamente raros (< 0,1%) e dificilmente possuem algum efeito significativo.\n",
    "* Variável não será usada."
   ]
  },
  {
   "cell_type": "code",
   "execution_count": 49,
   "metadata": {},
   "outputs": [
    {
     "data": {
      "text/plain": [
       "False    64146\n",
       "Name: owner, dtype: int64"
      ]
     },
     "execution_count": 49,
     "metadata": {},
     "output_type": "execute_result"
    }
   ],
   "source": [
    "# Verifica quantidade de valores missing.\n",
    "df_treino['owner'].isna().value_counts()"
   ]
  },
  {
   "cell_type": "code",
   "execution_count": 50,
   "metadata": {},
   "outputs": [
    {
     "data": {
      "text/plain": [
       "owner\n",
       "False    64129\n",
       "True        17\n",
       "dtype: int64"
      ]
     },
     "execution_count": 50,
     "metadata": {},
     "output_type": "execute_result"
    }
   ],
   "source": [
    "# Distribuição de frequências - conj. treino.\n",
    "df_treino.groupby('owner').size()"
   ]
  },
  {
   "cell_type": "code",
   "execution_count": 51,
   "metadata": {},
   "outputs": [
    {
     "data": {
      "text/plain": [
       "owner\n",
       "False    16033\n",
       "True         3\n",
       "dtype: int64"
      ]
     },
     "execution_count": 51,
     "metadata": {},
     "output_type": "execute_result"
    }
   ],
   "source": [
    "# Distribuição de frequências - conj. teste.\n",
    "df_teste.groupby('owner').size()"
   ]
  },
  {
   "cell_type": "markdown",
   "metadata": {},
   "source": [
    "## 2.10) country, city"
   ]
  },
  {
   "cell_type": "markdown",
   "metadata": {},
   "source": [
    "* Todos os anúncios são do Brasil.\n",
    "* Todos os anúncios são da cidade de SP.\n",
    "* Variáveis não serão usadas."
   ]
  },
  {
   "cell_type": "code",
   "execution_count": 52,
   "metadata": {},
   "outputs": [
    {
     "data": {
      "text/plain": [
       "True     58242\n",
       "False     5904\n",
       "Name: country, dtype: int64"
      ]
     },
     "execution_count": 52,
     "metadata": {},
     "output_type": "execute_result"
    }
   ],
   "source": [
    "# Verifica quantidade de valores missing.\n",
    "df_treino['country'].isna().value_counts()"
   ]
  },
  {
   "cell_type": "code",
   "execution_count": 53,
   "metadata": {},
   "outputs": [
    {
     "data": {
      "text/plain": [
       "country\n",
       "BR    5904\n",
       "dtype: int64"
      ]
     },
     "execution_count": 53,
     "metadata": {},
     "output_type": "execute_result"
    }
   ],
   "source": [
    "# Distribuição de frequências - conj. treino.\n",
    "df_treino.groupby('country').size()"
   ]
  },
  {
   "cell_type": "code",
   "execution_count": 54,
   "metadata": {},
   "outputs": [
    {
     "data": {
      "text/plain": [
       "country\n",
       "BR    1533\n",
       "dtype: int64"
      ]
     },
     "execution_count": 54,
     "metadata": {},
     "output_type": "execute_result"
    }
   ],
   "source": [
    "# Distribuição de frequências - conj. teste.\n",
    "df_teste.groupby('country').size()"
   ]
  },
  {
   "cell_type": "code",
   "execution_count": 55,
   "metadata": {},
   "outputs": [
    {
     "data": {
      "text/plain": [
       "False    64146\n",
       "Name: city, dtype: int64"
      ]
     },
     "execution_count": 55,
     "metadata": {},
     "output_type": "execute_result"
    }
   ],
   "source": [
    "# Verifica quantidade de valores missing.\n",
    "df_treino['city'].isna().value_counts()"
   ]
  },
  {
   "cell_type": "code",
   "execution_count": 56,
   "metadata": {},
   "outputs": [
    {
     "data": {
      "text/plain": [
       "city\n",
       "São Paulo    64146\n",
       "dtype: int64"
      ]
     },
     "execution_count": 56,
     "metadata": {},
     "output_type": "execute_result"
    }
   ],
   "source": [
    "# Distribuição de frequências - conj. treino.\n",
    "df_treino.groupby('city').size()"
   ]
  },
  {
   "cell_type": "code",
   "execution_count": 57,
   "metadata": {},
   "outputs": [
    {
     "data": {
      "text/plain": [
       "city\n",
       "São Paulo    16036\n",
       "dtype: int64"
      ]
     },
     "execution_count": 57,
     "metadata": {},
     "output_type": "execute_result"
    }
   ],
   "source": [
    "# Distribuição de frequências - conj. teste.\n",
    "df_teste.groupby('city').size()"
   ]
  },
  {
   "cell_type": "markdown",
   "metadata": {},
   "source": [
    "## 2.11) zipCode"
   ]
  },
  {
   "cell_type": "markdown",
   "metadata": {},
   "source": [
    "* Quantidade razoável de valores missing (aprox. 4%)\n",
    "* Há 6831 zipCodes distintos no conjunto de treino. A grande maioria dos valores aparece 1 ou 2 vezes.\n",
    "* Provavelmente há zipCodes no conjunto de teste que não estão no de treino.\n",
    "* Há muitos valores que parecem estar errados (como 00000000, que ocorre 917 vezes), mas é difícil saber quais são os demais valores errados.\n",
    "* Longitude e latitude dão informações bem parecidas.\n",
    "* Não será usada."
   ]
  },
  {
   "cell_type": "code",
   "execution_count": 58,
   "metadata": {},
   "outputs": [
    {
     "data": {
      "text/plain": [
       "False    61590\n",
       "True      2556\n",
       "Name: zipCode, dtype: int64"
      ]
     },
     "execution_count": 58,
     "metadata": {},
     "output_type": "execute_result"
    }
   ],
   "source": [
    "# Verifica quantidade de valores missing.\n",
    "df_treino['zipCode'].isna().value_counts()"
   ]
  },
  {
   "cell_type": "code",
   "execution_count": 59,
   "metadata": {},
   "outputs": [
    {
     "data": {
      "text/plain": [
       "zipCode\n",
       "00000000    917\n",
       "00004269      1\n",
       "00123101      1\n",
       "00311800      1\n",
       "00335050      3\n",
       "00336010     10\n",
       "00426001      7\n",
       "00429500      2\n",
       "00452090      1\n",
       "00456900      2\n",
       "00458000      4\n",
       "00541100      1\n",
       "01000000      1\n",
       "01000001      3\n",
       "01005020      2\n",
       "01006020      1\n",
       "01006030      1\n",
       "01011100      1\n",
       "01012010      2\n",
       "01014010      1\n",
       "01015060      2\n",
       "01015070      1\n",
       "01015080      1\n",
       "01017000      5\n",
       "01017010      2\n",
       "01017904      1\n",
       "01017905      1\n",
       "01020000     10\n",
       "01020001      5\n",
       "01020002      2\n",
       "           ... \n",
       "24350000      2\n",
       "30200000      3\n",
       "31740000      3\n",
       "31880000      6\n",
       "33200000      6\n",
       "33219000      2\n",
       "33250000      4\n",
       "33430000      5\n",
       "34140100      2\n",
       "34770000      1\n",
       "37330000      3\n",
       "40030028      2\n",
       "40464000      1\n",
       "40779030      2\n",
       "40810000      1\n",
       "41080000      4\n",
       "41272432      6\n",
       "43020210      2\n",
       "53500000      2\n",
       "53729020      1\n",
       "56880000      1\n",
       "57344150      1\n",
       "57670000      1\n",
       "59052700      2\n",
       "64550000      6\n",
       "67300000      1\n",
       "69940000      2\n",
       "85926800      1\n",
       "96316836      1\n",
       "99810303      2\n",
       "Length: 6831, dtype: int64"
      ]
     },
     "execution_count": 59,
     "metadata": {},
     "output_type": "execute_result"
    }
   ],
   "source": [
    "# Distribuição de frequências - conj. treino.\n",
    "df_treino.groupby('zipCode').size()"
   ]
  },
  {
   "cell_type": "markdown",
   "metadata": {},
   "source": [
    "## 2.12) streetNumber"
   ]
  },
  {
   "cell_type": "markdown",
   "metadata": {},
   "source": [
    "* Há 2369 streetNumbers distintos no conjunto de treino. Boa parte dos valores aparece 1 ou 2 vezes.\n",
    "* Provavelmente há streetNumbers no conjunto de teste que não aestão no de treino.\n",
    "* Há muitos valores que parecem estar errados (como 0: ocorre 113 vezes, e 1: ocorre 630 vezes), difícil saber quais são todos eles.\n",
    "* Aproximadamente 1/3 de valores missing.\n",
    "* De qualquer forma, não parece haver correlação entre streetNumber e price. Até porque, streetNumbers pequenos são muito mais comuns do que numbers grandes (toda rua tem números pequenos, mas poucas possuem números grandes).\n",
    "* Esa variável não será usada."
   ]
  },
  {
   "cell_type": "code",
   "execution_count": 60,
   "metadata": {},
   "outputs": [
    {
     "data": {
      "text/plain": [
       "False    43098\n",
       "True     21048\n",
       "Name: streetNumber, dtype: int64"
      ]
     },
     "execution_count": 60,
     "metadata": {},
     "output_type": "execute_result"
    }
   ],
   "source": [
    "# Verifica quantidade de valores missing.\n",
    "df_treino['streetNumber'].isna().value_counts()"
   ]
  },
  {
   "cell_type": "code",
   "execution_count": 61,
   "metadata": {},
   "outputs": [
    {
     "data": {
      "text/plain": [
       "streetNumber\n",
       "0             51\n",
       "0-400          1\n",
       "00            42\n",
       "000           14\n",
       "0000           2\n",
       "00000          1\n",
       "000008777      1\n",
       "0009999        1\n",
       "001            1\n",
       "004            1\n",
       "01            33\n",
       "02             3\n",
       "020            1\n",
       "027            1\n",
       "04             1\n",
       "05             1\n",
       "06             1\n",
       "060            1\n",
       "07             1\n",
       "08             6\n",
       "086            1\n",
       "09             4\n",
       "1            596\n",
       "10           164\n",
       "100          465\n",
       "1000          73\n",
       "1001          39\n",
       "1002           2\n",
       "1003          10\n",
       "1005          22\n",
       "            ... \n",
       "974            9\n",
       "975           21\n",
       "976           10\n",
       "977           20\n",
       "978            3\n",
       "979            5\n",
       "98            43\n",
       "980           22\n",
       "981           13\n",
       "982           12\n",
       "983            6\n",
       "984           12\n",
       "985            4\n",
       "9851           1\n",
       "986            5\n",
       "987            4\n",
       "988            8\n",
       "989           16\n",
       "99            93\n",
       "990            6\n",
       "991            3\n",
       "992            6\n",
       "993            7\n",
       "995            2\n",
       "996            5\n",
       "998            4\n",
       "999           16\n",
       "APTO 111       1\n",
       "S/N            5\n",
       "s/n            5\n",
       "Length: 2369, dtype: int64"
      ]
     },
     "execution_count": 61,
     "metadata": {},
     "output_type": "execute_result"
    }
   ],
   "source": [
    "df_treino.groupby('streetNumber').size()"
   ]
  },
  {
   "cell_type": "markdown",
   "metadata": {},
   "source": [
    "## 2.13) zone  "
   ]
  },
  {
   "cell_type": "markdown",
   "metadata": {},
   "source": [
    "* Quantidade muito alta de valores missing (aprox. 90%).\n",
    "* Não será usada, pois tal informação também é dada pela variável _locationID_, que quase não possui missings."
   ]
  },
  {
   "cell_type": "code",
   "execution_count": 62,
   "metadata": {},
   "outputs": [
    {
     "data": {
      "text/plain": [
       "True     56488\n",
       "False     7658\n",
       "Name: zone, dtype: int64"
      ]
     },
     "execution_count": 62,
     "metadata": {},
     "output_type": "execute_result"
    }
   ],
   "source": [
    "# Verifica quantidade de valores missing.\n",
    "df_treino['zone'].isna().value_counts()"
   ]
  },
  {
   "cell_type": "code",
   "execution_count": 63,
   "metadata": {},
   "outputs": [
    {
     "data": {
      "text/plain": [
       "zone\n",
       "Centro        1564\n",
       "Zona Leste    1185\n",
       "Zona Norte    1336\n",
       "Zona Oeste    1039\n",
       "Zona Sul      2534\n",
       "dtype: int64"
      ]
     },
     "execution_count": 63,
     "metadata": {},
     "output_type": "execute_result"
    }
   ],
   "source": [
    "# Distribuição de Frequências.\n",
    "df_treino.groupby('zone').size()"
   ]
  },
  {
   "cell_type": "markdown",
   "metadata": {},
   "source": [
    "## 2.14) precision"
   ]
  },
  {
   "cell_type": "markdown",
   "metadata": {},
   "source": [
    "* Se refere ao método de geo localização.\n",
    "* Não parece possuir informação relevante.\n",
    "* Não será usada no modelo."
   ]
  },
  {
   "cell_type": "code",
   "execution_count": 64,
   "metadata": {},
   "outputs": [
    {
     "data": {
      "text/plain": [
       "False    64141\n",
       "True         5\n",
       "Name: precision, dtype: int64"
      ]
     },
     "execution_count": 64,
     "metadata": {},
     "output_type": "execute_result"
    }
   ],
   "source": [
    "# Verifica quantidade de valores missing.\n",
    "df_treino['precision'].isna().value_counts()"
   ]
  },
  {
   "cell_type": "code",
   "execution_count": 65,
   "metadata": {},
   "outputs": [
    {
     "data": {
      "text/plain": [
       "precision\n",
       "APPROXIMATE            2945\n",
       "GEOMETRIC_CENTER      18477\n",
       "NO_GEOCODE               16\n",
       "RANGE_INTERPOLATED     6043\n",
       "ROOFTOP               36660\n",
       "dtype: int64"
      ]
     },
     "execution_count": 65,
     "metadata": {},
     "output_type": "execute_result"
    }
   ],
   "source": [
    "df_treino.groupby('precision').size()"
   ]
  },
  {
   "cell_type": "code",
   "execution_count": 66,
   "metadata": {},
   "outputs": [
    {
     "data": {
      "text/plain": [
       "precision\n",
       "APPROXIMATE            726\n",
       "GEOMETRIC_CENTER      4653\n",
       "NO_GEOCODE               4\n",
       "RANGE_INTERPOLATED    1542\n",
       "ROOFTOP               9108\n",
       "dtype: int64"
      ]
     },
     "execution_count": 66,
     "metadata": {},
     "output_type": "execute_result"
    }
   ],
   "source": [
    "df_teste.groupby('precision').size()"
   ]
  },
  {
   "cell_type": "markdown",
   "metadata": {},
   "source": [
    "## 2.15) lon, lat       "
   ]
  },
  {
   "cell_type": "markdown",
   "metadata": {},
   "source": [
    "* Valores missing: (< 0,001%) substituir pelas medianas dos conjuntos de treino.\n",
    "* Um histograma 2D mostra a localização dos imóveis, usando o preço para determinar a intensidade das cores. Conclui-se que há boa correlação entre coordenadas e preço.\n",
    "* Transformação \"Standardize\" para diminuir efeito da escala da variável sobre o modelo."
   ]
  },
  {
   "cell_type": "code",
   "execution_count": 67,
   "metadata": {},
   "outputs": [
    {
     "data": {
      "text/plain": [
       "False    64141\n",
       "True         5\n",
       "Name: lon, dtype: int64"
      ]
     },
     "execution_count": 67,
     "metadata": {},
     "output_type": "execute_result"
    }
   ],
   "source": [
    "# Verifica quantidade de valores missing.\n",
    "df_treino['lon'].isna().value_counts()"
   ]
  },
  {
   "cell_type": "code",
   "execution_count": 68,
   "metadata": {},
   "outputs": [
    {
     "data": {
      "text/plain": [
       "False    64141\n",
       "True         5\n",
       "Name: lat, dtype: int64"
      ]
     },
     "execution_count": 68,
     "metadata": {},
     "output_type": "execute_result"
    }
   ],
   "source": [
    "# Verifica quantidade de valores missing.\n",
    "df_treino['lat'].isna().value_counts()"
   ]
  },
  {
   "cell_type": "code",
   "execution_count": 69,
   "metadata": {},
   "outputs": [],
   "source": [
    "# Substitui valores missing de 'lon' dos conj. de treino e de testes pela median_absolute_errorana do conj. de treino.\n",
    "med = df_treino['lon'].median()\n",
    "df_treino['lon'] = df_treino['lon'].apply(lambda x: med if pd.isna(x) else x)\n",
    "df_teste['lon'] = df_teste['lon'].apply(lambda x: med if pd.isna(x) else x)\n",
    "\n",
    "# Substitui valores missing de 'lat' dos conj. de treino e de testes pela median_absolute_errorana do conj. de treino.\n",
    "med = df_treino['lat'].median()\n",
    "df_treino['lat'] = df_treino['lat'].apply(lambda x: med if pd.isna(x) else x)\n",
    "df_teste['lat'] = df_teste['lat'].apply(lambda x: med if pd.isna(x) else x)"
   ]
  },
  {
   "cell_type": "code",
   "execution_count": 70,
   "metadata": {},
   "outputs": [
    {
     "data": {
      "text/plain": [
       "Text(0.5,0.98,'Histograma 2D: Preço x latitude e longitude')"
      ]
     },
     "execution_count": 70,
     "metadata": {},
     "output_type": "execute_result"
    },
    {
     "data": {
      "image/png": "[encoded data removed]",
      "text/plain": [
       "<Figure size 720x360 with 2 Axes>"
      ]
     },
     "metadata": {},
     "output_type": "display_data"
    }
   ],
   "source": [
    "# Histograma 2D (hexbin)\n",
    "df_treino.plot.hexbin(x='lon',y='lat', C='price', figsize=(10,5))\n",
    "plt.suptitle('Histograma 2D: Preço x latitude e longitude')"
   ]
  },
  {
   "cell_type": "code",
   "execution_count": 71,
   "metadata": {},
   "outputs": [],
   "source": [
    "# Transformação \"Standardize\" dos conjuntos de treino e de testes usando média e desvio padrão do conjunto de treino.\n",
    "# lon\n",
    "avg = df_treino['lon'].mean()\n",
    "std = df_treino['lon'].std()\n",
    "df_treino['lon'] = df_treino['lon'].apply(lambda x: (x - avg)/std)\n",
    "df_teste['lon'] = df_teste['lon'].apply(lambda x: (x - avg)/std)\n",
    "\n",
    "# lat\n",
    "avg = df_treino['lat'].mean()\n",
    "std = df_treino['lat'].std()\n",
    "df_treino['lat'] = df_treino['lat'].apply(lambda x: (x - avg)/std)\n",
    "df_teste['lat'] = df_teste['lat'].apply(lambda x: (x - avg)/std)"
   ]
  },
  {
   "cell_type": "code",
   "execution_count": 72,
   "metadata": {
    "scrolled": true
   },
   "outputs": [
    {
     "data": {
      "text/plain": [
       "Text(0.5,0.98,'Histograma longitude - conj. treino')"
      ]
     },
     "execution_count": 72,
     "metadata": {},
     "output_type": "execute_result"
    },
    {
     "data": {
      "image/png": "[encoded data removed]",
      "text/plain": [
       "<Figure size 432x288 with 1 Axes>"
      ]
     },
     "metadata": {},
     "output_type": "display_data"
    }
   ],
   "source": [
    "# Histograma.\n",
    "df_treino['lon'].hist(bins=20)\n",
    "plt.suptitle('Histograma longitude - conj. treino')"
   ]
  },
  {
   "cell_type": "code",
   "execution_count": 73,
   "metadata": {},
   "outputs": [
    {
     "data": {
      "text/plain": [
       "Text(0.5,0.98,'Histograma latitude - conj. treino')"
      ]
     },
     "execution_count": 73,
     "metadata": {},
     "output_type": "execute_result"
    },
    {
     "data": {
      "image/png": "[encoded data removed]",
      "text/plain": [
       "<Figure size 432x288 with 1 Axes>"
      ]
     },
     "metadata": {},
     "output_type": "display_data"
    }
   ],
   "source": [
    "df_treino['lat'].hist(bins=20)\n",
    "plt.suptitle('Histograma latitude - conj. treino')"
   ]
  },
  {
   "cell_type": "markdown",
   "metadata": {},
   "source": [
    "## 2.16) street             "
   ]
  },
  {
   "cell_type": "markdown",
   "metadata": {},
   "source": [
    "* Há 4591 streets distintas no conjunto de treino. Boa parte dos valores aparece 1 ou 2 vezes.\n",
    "* Provavelmente há streets no conjunto de teste que não estão no de treino.\n",
    "* Quantidade razoável de missings (aprox. 4,5%)\n",
    "* O zipcode, o bairro e as coordenadas geográficas dão informações bem parecidas.\n",
    "* Não será usada."
   ]
  },
  {
   "cell_type": "code",
   "execution_count": 74,
   "metadata": {},
   "outputs": [
    {
     "data": {
      "text/plain": [
       "False    61247\n",
       "True      2899\n",
       "Name: street, dtype: int64"
      ]
     },
     "execution_count": 74,
     "metadata": {},
     "output_type": "execute_result"
    }
   ],
   "source": [
    "# Verifica quantidade de valores missing.\n",
    "df_treino['street'].isna().value_counts()"
   ]
  },
  {
   "cell_type": "code",
   "execution_count": 75,
   "metadata": {},
   "outputs": [
    {
     "data": {
      "text/plain": [
       "street\n",
       "9 de Julho                                         2\n",
       "Alameda Afonso Schmidt                            47\n",
       "Alameda Agenor Couto Magalhães                     1\n",
       "Alameda Barros                                    28\n",
       "Alameda Barão de Limeira                          12\n",
       "Alameda Barão de Piracicaba                        1\n",
       "Alameda Campinas                                  97\n",
       "Alameda Casa Branca                               75\n",
       "Alameda Eduardo Prado                              2\n",
       "Alameda Fernão Cardim                            103\n",
       "Alameda Franca                                   197\n",
       "Alameda Gabriel Monteiro da Silva                 11\n",
       "Alameda Glete                                      9\n",
       "Alameda Iraé                                      11\n",
       "Alameda Itu                                      151\n",
       "Alameda Itupiranga                                 1\n",
       "Alameda Jauaperi                                  53\n",
       "Alameda Jaú                                      145\n",
       "Alameda Joaquim Eugênio de Lima                  150\n",
       "Alameda Joaquim José de Mattos                     1\n",
       "Alameda Lorena                                    91\n",
       "Alameda Maruás                                     1\n",
       "Alameda Ministro Rocha Azevedo                   101\n",
       "Alameda Nothmann                                   2\n",
       "Alameda Olga                                       3\n",
       "Alameda Rainha Santa                               1\n",
       "Alameda Raínha Santa                               2\n",
       "Alameda Ribeiro da Silva                           3\n",
       "Alameda Ribeirão Preto                            33\n",
       "Alameda Rio Claro                                 10\n",
       "                                                ... \n",
       "Travessa Nova Jerusalém                            1\n",
       "Travessa Parsival                                  1\n",
       "Travessa Pereira do Lago                           1\n",
       "Travessa Professor Oscar Sayago de Sá Pereira      1\n",
       "Travessa Ribeiro Viana                             1\n",
       "Travessa Saguaragi                                 8\n",
       "Travessa Siqueira Bueno                            1\n",
       "Travessa Suzano                                    3\n",
       "Travessa do Boqueirão                              3\n",
       "Via Anchieta                                       1\n",
       "Viaduto Alcântara Machado                          1\n",
       "Viaduto Bresser                                    1\n",
       "Viaduto Brigadeiro Luiz Antônio                    1\n",
       "Viaduto Dona Paulina                               1\n",
       "Viaduto Doutor Eduardo Saigh                       1\n",
       "Viaduto Martinho Prado                             2\n",
       "Viaduto Nove de Julho                             11\n",
       "Viaduto Raimundo Pereira de Magalhães              1\n",
       "Viaduto Santo Amaro                                2\n",
       "Viaduto do Glicério                                1\n",
       "Viela A                                            1\n",
       "Viela Quatro                                       2\n",
       "Viela Serena                                       1\n",
       "Viela Um                                          14\n",
       "Viela dos Donatarios                               1\n",
       "Vila Tucuna                                        5\n",
       "Vila Vinte e Um de Abril                           1\n",
       "avenida josé andré de moraes                       1\n",
       "bergamota                                          1\n",
       "rua joa                                            1\n",
       "Length: 4591, dtype: int64"
      ]
     },
     "execution_count": 75,
     "metadata": {},
     "output_type": "execute_result"
    }
   ],
   "source": [
    "df_treino.groupby('street').size()"
   ]
  },
  {
   "cell_type": "markdown",
   "metadata": {},
   "source": [
    "## 2.17) locationId "
   ]
  },
  {
   "cell_type": "markdown",
   "metadata": {},
   "source": [
    "* Não contém valores missing.\n",
    "* Formato dos dados: País > Estado > ? > Cidade > Zona > Bairro.\n",
    "* Será usada para determinar a zona da cidade, já que a variável zone contém 90% de missings.\n",
    "    * Algumas instâncias não possuem zone, ou possuem zone 'Barrios'. Serão substituídas pela classe modal.\n",
    "    * Variável nova: locationId_zone.\n",
    "    * Será codificada usando one hot encode: neste caso, serão usadas as variáveis **locationId_zone_zl, locationId_zone_zn, locationId_zone_zo, locationId_zone_zs**. Os imóveis no centro são aqueles que possuem 0 nas quatro variáveis.\n",
    "* Também pode ser usada para determinar o bairro em refinamentos futuros."
   ]
  },
  {
   "cell_type": "code",
   "execution_count": 76,
   "metadata": {},
   "outputs": [
    {
     "data": {
      "text/plain": [
       "False    64146\n",
       "Name: locationId, dtype: int64"
      ]
     },
     "execution_count": 76,
     "metadata": {},
     "output_type": "execute_result"
    }
   ],
   "source": [
    "# Verifica quantidade de valores missing.\n",
    "df_treino['locationId'].isna().value_counts()"
   ]
  },
  {
   "cell_type": "code",
   "execution_count": 77,
   "metadata": {},
   "outputs": [
    {
     "data": {
      "text/plain": [
       "'BR>Sao Paulo>NULL>Sao Paulo>Zona Sul>Vila Olimpia'"
      ]
     },
     "execution_count": 77,
     "metadata": {},
     "output_type": "execute_result"
    }
   ],
   "source": [
    "# Típico valor desta variável.\n",
    "# Formato dos dados: País > Estado > ? > Cidade > Zona > Bairro\n",
    "df_treino['locationId'][0]"
   ]
  },
  {
   "cell_type": "code",
   "execution_count": 78,
   "metadata": {},
   "outputs": [],
   "source": [
    "# Usa a função split para quebrar as strings toda vez que encontra o sinal '>'.\n",
    "# A zona é o 5º valor da lista gerada.\n",
    "# Caso a lista não possua um quinto valor (por ser curta, erro de preeenchimento), retorna valor 'unk'.\n",
    "df_treino['locationId_zone'] = df_treino['locationId'].apply(lambda x: x.split('>')[4] if len(x.split('>')) > 4 else 'unk')\n",
    "df_teste['locationId_zone'] = df_teste['locationId'].apply(lambda x: x.split('>')[4] if len(x.split('>')) > 4 else 'unk')"
   ]
  },
  {
   "cell_type": "code",
   "execution_count": 79,
   "metadata": {},
   "outputs": [
    {
     "data": {
      "text/plain": [
       "locationId_zone\n",
       "Barrios          10\n",
       "Centro         6621\n",
       "Zona Leste    11457\n",
       "Zona Norte    11401\n",
       "Zona Oeste     9475\n",
       "Zona Sul      25148\n",
       "unk              34\n",
       "dtype: int64"
      ]
     },
     "execution_count": 79,
     "metadata": {},
     "output_type": "execute_result"
    }
   ],
   "source": [
    "# Distribuição de frequências.\n",
    "df_treino.groupby('locationId_zone').size()"
   ]
  },
  {
   "cell_type": "code",
   "execution_count": 80,
   "metadata": {},
   "outputs": [
    {
     "data": {
      "text/plain": [
       "'Zona Sul'"
      ]
     },
     "execution_count": 80,
     "metadata": {},
     "output_type": "execute_result"
    }
   ],
   "source": [
    "# Determina a moda do conj. de treino.\n",
    "mod = df_treino.groupby('locationId_zone').size().idxmax()\n",
    "mod"
   ]
  },
  {
   "cell_type": "code",
   "execution_count": 81,
   "metadata": {},
   "outputs": [],
   "source": [
    "# Substitui valores ausentes e 'Barrios' de ambos os conjuntos pela moda do conj. de treino.\n",
    "df_treino['locationId_zone'] = df_treino['locationId_zone'].apply(lambda x: mod if x == 'Barrios' or x == 'unk' else x)\n",
    "df_teste['locationId_zone'] = df_teste['locationId_zone'].apply(lambda x: mod if x == 'Barrios' or x == 'unk' else x)"
   ]
  },
  {
   "cell_type": "code",
   "execution_count": 82,
   "metadata": {},
   "outputs": [
    {
     "data": {
      "text/plain": [
       "locationId_zone\n",
       "Centro         6621\n",
       "Zona Leste    11457\n",
       "Zona Norte    11401\n",
       "Zona Oeste     9475\n",
       "Zona Sul      25192\n",
       "dtype: int64"
      ]
     },
     "execution_count": 82,
     "metadata": {},
     "output_type": "execute_result"
    }
   ],
   "source": [
    "# Nova distribuição de frequências do conj. de treino.\n",
    "df_treino.groupby('locationId_zone').size()"
   ]
  },
  {
   "cell_type": "code",
   "execution_count": 83,
   "metadata": {},
   "outputs": [
    {
     "data": {
      "text/plain": [
       "locationId_zone\n",
       "Centro        1665\n",
       "Zona Leste    2882\n",
       "Zona Norte    2838\n",
       "Zona Oeste    2317\n",
       "Zona Sul      6334\n",
       "dtype: int64"
      ]
     },
     "execution_count": 83,
     "metadata": {},
     "output_type": "execute_result"
    }
   ],
   "source": [
    "# Nova distribuição de frequências do conj. de teste.\n",
    "df_teste.groupby('locationId_zone').size()"
   ]
  },
  {
   "cell_type": "code",
   "execution_count": 84,
   "metadata": {},
   "outputs": [],
   "source": [
    "# One hot encode p/ conj. treino.\n",
    "df_treino['locationId_zone_ZL'] = df_treino['locationId_zone'].apply(lambda x: 1 if x == 'Zona Leste' else 0)\n",
    "df_treino['locationId_zone_ZN'] = df_treino['locationId_zone'].apply(lambda x: 1 if x == 'Zona Norte' else 0)\n",
    "df_treino['locationId_zone_ZO'] = df_treino['locationId_zone'].apply(lambda x: 1 if x == 'Zona Oeste' else 0)\n",
    "df_treino['locationId_zone_ZS'] = df_treino['locationId_zone'].apply(lambda x: 1 if x == 'Zona Sul' else 0)\n",
    "\n",
    "# One hot encode p/ conj. teste.\n",
    "df_teste['locationId_zone_ZL'] = df_teste['locationId_zone'].apply(lambda x: 1 if x == 'Zona Leste' else 0)\n",
    "df_teste['locationId_zone_ZN'] = df_teste['locationId_zone'].apply(lambda x: 1 if x == 'Zona Norte' else 0)\n",
    "df_teste['locationId_zone_ZO'] = df_teste['locationId_zone'].apply(lambda x: 1 if x == 'Zona Oeste' else 0)\n",
    "df_teste['locationId_zone_ZS'] = df_teste['locationId_zone'].apply(lambda x: 1 if x == 'Zona Sul' else 0)"
   ]
  },
  {
   "cell_type": "code",
   "execution_count": 85,
   "metadata": {},
   "outputs": [
    {
     "data": {
      "text/html": [
       "<div>\n",
       "<style scoped>\n",
       "    .dataframe tbody tr th:only-of-type {\n",
       "        vertical-align: middle;\n",
       "    }\n",
       "\n",
       "    .dataframe tbody tr th {\n",
       "        vertical-align: top;\n",
       "    }\n",
       "\n",
       "    .dataframe thead th {\n",
       "        text-align: right;\n",
       "    }\n",
       "</style>\n",
       "<table border=\"1\" class=\"dataframe\">\n",
       "  <thead>\n",
       "    <tr style=\"text-align: right;\">\n",
       "      <th></th>\n",
       "      <th>locationId</th>\n",
       "      <th>locationId_zone_ZL</th>\n",
       "      <th>locationId_zone_ZN</th>\n",
       "      <th>locationId_zone_ZO</th>\n",
       "      <th>locationId_zone_ZS</th>\n",
       "    </tr>\n",
       "    <tr>\n",
       "      <th>id</th>\n",
       "      <th></th>\n",
       "      <th></th>\n",
       "      <th></th>\n",
       "      <th></th>\n",
       "      <th></th>\n",
       "    </tr>\n",
       "  </thead>\n",
       "  <tbody>\n",
       "    <tr>\n",
       "      <th>6654d93423</th>\n",
       "      <td>BR&gt;Sao Paulo&gt;NULL&gt;Sao Paulo&gt;Zona Sul&gt;Vila Olimpia</td>\n",
       "      <td>0</td>\n",
       "      <td>0</td>\n",
       "      <td>0</td>\n",
       "      <td>1</td>\n",
       "    </tr>\n",
       "    <tr>\n",
       "      <th>9ffaf676ae</th>\n",
       "      <td>BR&gt;Sao Paulo&gt;NULL&gt;Sao Paulo&gt;Zona Sul&gt;Paraiso</td>\n",
       "      <td>0</td>\n",
       "      <td>0</td>\n",
       "      <td>0</td>\n",
       "      <td>1</td>\n",
       "    </tr>\n",
       "    <tr>\n",
       "      <th>f03e22422a</th>\n",
       "      <td>BR&gt;Sao Paulo&gt;NULL&gt;Sao Paulo&gt;Zona Oeste&gt;Pinheiros</td>\n",
       "      <td>0</td>\n",
       "      <td>0</td>\n",
       "      <td>1</td>\n",
       "      <td>0</td>\n",
       "    </tr>\n",
       "    <tr>\n",
       "      <th>8e1922c386</th>\n",
       "      <td>BR&gt;Sao Paulo&gt;NULL&gt;Sao Paulo&gt;Centro&gt;Aclimacao</td>\n",
       "      <td>0</td>\n",
       "      <td>0</td>\n",
       "      <td>0</td>\n",
       "      <td>0</td>\n",
       "    </tr>\n",
       "    <tr>\n",
       "      <th>690407f653</th>\n",
       "      <td>BR&gt;Sao Paulo&gt;NULL&gt;Sao Paulo&gt;Zona Sul&gt;Morumbi</td>\n",
       "      <td>0</td>\n",
       "      <td>0</td>\n",
       "      <td>0</td>\n",
       "      <td>1</td>\n",
       "    </tr>\n",
       "    <tr>\n",
       "      <th>7be005debd</th>\n",
       "      <td>BR&gt;Sao Paulo&gt;NULL&gt;Sao Paulo&gt;Zona Sul&gt;Sacoma</td>\n",
       "      <td>0</td>\n",
       "      <td>0</td>\n",
       "      <td>0</td>\n",
       "      <td>1</td>\n",
       "    </tr>\n",
       "    <tr>\n",
       "      <th>7623d6d4d0</th>\n",
       "      <td>BR&gt;Sao Paulo&gt;NULL&gt;Sao Paulo&gt;Zona Sul&gt;Sacoma</td>\n",
       "      <td>0</td>\n",
       "      <td>0</td>\n",
       "      <td>0</td>\n",
       "      <td>1</td>\n",
       "    </tr>\n",
       "    <tr>\n",
       "      <th>3d756cfa06</th>\n",
       "      <td>BR&gt;Sao Paulo&gt;NULL&gt;Sao Paulo&gt;Zona Sul&gt;Bosque da...</td>\n",
       "      <td>0</td>\n",
       "      <td>0</td>\n",
       "      <td>0</td>\n",
       "      <td>1</td>\n",
       "    </tr>\n",
       "    <tr>\n",
       "      <th>7a7f945bf9</th>\n",
       "      <td>BR&gt;Sao Paulo&gt;NULL&gt;Sao Paulo&gt;Zona Oeste&gt;Vila Gomes</td>\n",
       "      <td>0</td>\n",
       "      <td>0</td>\n",
       "      <td>1</td>\n",
       "      <td>0</td>\n",
       "    </tr>\n",
       "    <tr>\n",
       "      <th>47e9737aaa</th>\n",
       "      <td>BR&gt;Sao Paulo&gt;NULL&gt;Sao Paulo&gt;Zona Sul&gt;Jardim Ma...</td>\n",
       "      <td>0</td>\n",
       "      <td>0</td>\n",
       "      <td>0</td>\n",
       "      <td>1</td>\n",
       "    </tr>\n",
       "  </tbody>\n",
       "</table>\n",
       "</div>"
      ],
      "text/plain": [
       "                                                   locationId  \\\n",
       "id                                                              \n",
       "6654d93423  BR>Sao Paulo>NULL>Sao Paulo>Zona Sul>Vila Olimpia   \n",
       "9ffaf676ae       BR>Sao Paulo>NULL>Sao Paulo>Zona Sul>Paraiso   \n",
       "f03e22422a   BR>Sao Paulo>NULL>Sao Paulo>Zona Oeste>Pinheiros   \n",
       "8e1922c386       BR>Sao Paulo>NULL>Sao Paulo>Centro>Aclimacao   \n",
       "690407f653       BR>Sao Paulo>NULL>Sao Paulo>Zona Sul>Morumbi   \n",
       "7be005debd        BR>Sao Paulo>NULL>Sao Paulo>Zona Sul>Sacoma   \n",
       "7623d6d4d0        BR>Sao Paulo>NULL>Sao Paulo>Zona Sul>Sacoma   \n",
       "3d756cfa06  BR>Sao Paulo>NULL>Sao Paulo>Zona Sul>Bosque da...   \n",
       "7a7f945bf9  BR>Sao Paulo>NULL>Sao Paulo>Zona Oeste>Vila Gomes   \n",
       "47e9737aaa  BR>Sao Paulo>NULL>Sao Paulo>Zona Sul>Jardim Ma...   \n",
       "\n",
       "            locationId_zone_ZL  locationId_zone_ZN  locationId_zone_ZO  \\\n",
       "id                                                                       \n",
       "6654d93423                   0                   0                   0   \n",
       "9ffaf676ae                   0                   0                   0   \n",
       "f03e22422a                   0                   0                   1   \n",
       "8e1922c386                   0                   0                   0   \n",
       "690407f653                   0                   0                   0   \n",
       "7be005debd                   0                   0                   0   \n",
       "7623d6d4d0                   0                   0                   0   \n",
       "3d756cfa06                   0                   0                   0   \n",
       "7a7f945bf9                   0                   0                   1   \n",
       "47e9737aaa                   0                   0                   0   \n",
       "\n",
       "            locationId_zone_ZS  \n",
       "id                              \n",
       "6654d93423                   1  \n",
       "9ffaf676ae                   1  \n",
       "f03e22422a                   0  \n",
       "8e1922c386                   0  \n",
       "690407f653                   1  \n",
       "7be005debd                   1  \n",
       "7623d6d4d0                   1  \n",
       "3d756cfa06                   1  \n",
       "7a7f945bf9                   0  \n",
       "47e9737aaa                   1  "
      ]
     },
     "execution_count": 85,
     "metadata": {},
     "output_type": "execute_result"
    }
   ],
   "source": [
    "# Exemplo da codificação dos dados.\n",
    "df_treino[['locationId', 'locationId_zone_ZL', 'locationId_zone_ZN', 'locationId_zone_ZO', 'locationId_zone_ZS']].head(10)"
   ]
  },
  {
   "cell_type": "markdown",
   "metadata": {},
   "source": [
    "## 2.18) district, unitNumber  "
   ]
  },
  {
   "cell_type": "markdown",
   "metadata": {},
   "source": [
    "* A variável __district__ contém valores para apenas 3 das 64146 entradas do conjunto de treinos, e é missing em todas as entradas do conjunto de teste.\n",
    "* A variável __unitNumber__ contém valores para apenas 23 das 64146 entradas do conjunto de treinos, e para apenas 7 das 16036 entradas do conjunto de teste. Além disso, boa parte dos valores estão errados, como se nota na Distribuição de frequencias.\n",
    "* Nenhuma das duas será uasada no modelo."
   ]
  },
  {
   "cell_type": "code",
   "execution_count": 86,
   "metadata": {},
   "outputs": [
    {
     "data": {
      "text/plain": [
       "True     64143\n",
       "False        3\n",
       "Name: district, dtype: int64"
      ]
     },
     "execution_count": 86,
     "metadata": {},
     "output_type": "execute_result"
    }
   ],
   "source": [
    "# Verifica quantidade de valores missing.\n",
    "df_treino['district'].isna().value_counts()"
   ]
  },
  {
   "cell_type": "code",
   "execution_count": 87,
   "metadata": {},
   "outputs": [
    {
     "data": {
      "text/plain": [
       "True    16036\n",
       "Name: district, dtype: int64"
      ]
     },
     "execution_count": 87,
     "metadata": {},
     "output_type": "execute_result"
    }
   ],
   "source": [
    "# Verifica quantidade de valores missing.\n",
    "df_teste['district'].isna().value_counts()"
   ]
  },
  {
   "cell_type": "markdown",
   "metadata": {},
   "source": [
    "unitNumber"
   ]
  },
  {
   "cell_type": "code",
   "execution_count": 88,
   "metadata": {},
   "outputs": [
    {
     "data": {
      "text/plain": [
       "True     64123\n",
       "False       23\n",
       "Name: unitNumber, dtype: int64"
      ]
     },
     "execution_count": 88,
     "metadata": {},
     "output_type": "execute_result"
    }
   ],
   "source": [
    "# Verifica quantidade de valores missing.\n",
    "df_treino['unitNumber'].isna().value_counts()"
   ]
  },
  {
   "cell_type": "code",
   "execution_count": 89,
   "metadata": {},
   "outputs": [
    {
     "data": {
      "text/plain": [
       "True     16029\n",
       "False        7\n",
       "Name: unitNumber, dtype: int64"
      ]
     },
     "execution_count": 89,
     "metadata": {},
     "output_type": "execute_result"
    }
   ],
   "source": [
    "# Verifica quantidade de valores missing.\n",
    "df_teste['unitNumber'].isna().value_counts()"
   ]
  },
  {
   "cell_type": "code",
   "execution_count": 90,
   "metadata": {},
   "outputs": [
    {
     "data": {
      "text/plain": [
       "unitNumber\n",
       "02                                    1\n",
       "1140                                  1\n",
       "21                                    1\n",
       "41                                    1\n",
       "451                                   1\n",
       "APTO                                  1\n",
       "APTO 81                               1\n",
       "Apartamento                           4\n",
       "Campos Eliseos                        1\n",
       "Condomínio                            1\n",
       "Contracta- Fone Ricardo: 5509-7740    1\n",
       "Dona Norma                            1\n",
       "Edifício Bluemont                     1\n",
       "Edifício Itaici                       1\n",
       "PRÓXIMO AO METRÔ CAMPO LIMPO          1\n",
       "Quatro Estações                       1\n",
       "Tribeca Nova Leopoldina               1\n",
       "Vila Nova Leopoldina                  1\n",
       "Ville Bayard                          1\n",
       "Well Pompéia                          1\n",
       "dtype: int64"
      ]
     },
     "execution_count": 90,
     "metadata": {},
     "output_type": "execute_result"
    }
   ],
   "source": [
    "# Distribuição de frequências - conj. treino.\n",
    "df_treino.groupby('unitNumber').size()"
   ]
  },
  {
   "cell_type": "code",
   "execution_count": 91,
   "metadata": {},
   "outputs": [
    {
     "data": {
      "text/plain": [
       "unitNumber\n",
       "42                   1\n",
       "505                  1\n",
       "81                   1\n",
       "Apartamento          1\n",
       "Bloco A              1\n",
       "Pronto para morar    1\n",
       "Residencial          1\n",
       "dtype: int64"
      ]
     },
     "execution_count": 91,
     "metadata": {},
     "output_type": "execute_result"
    }
   ],
   "source": [
    "# Distribuição de frequências - conj. teste.\n",
    "df_teste.groupby('unitNumber').size()"
   ]
  },
  {
   "cell_type": "markdown",
   "metadata": {},
   "source": [
    "## 2.19) state "
   ]
  },
  {
   "cell_type": "markdown",
   "metadata": {},
   "source": [
    "* Há apenas 1 missing.\n",
    "* Todos os imóveis são do estado de São Paulo, já que todos eles estão no município de São Paulo.\n",
    "* Há um imóvel marcado em Santa Catarina, mas parece ser um erro, já que sua _locationId_ aponta para um bairro da zona Norte paulista.\n",
    "* De qualquer forma, a variável não será usada."
   ]
  },
  {
   "cell_type": "code",
   "execution_count": 92,
   "metadata": {},
   "outputs": [
    {
     "data": {
      "text/plain": [
       "False    64145\n",
       "True         1\n",
       "Name: state, dtype: int64"
      ]
     },
     "execution_count": 92,
     "metadata": {},
     "output_type": "execute_result"
    }
   ],
   "source": [
    "# Verifica quantidade de valores missing.\n",
    "df_treino['state'].isna().value_counts()"
   ]
  },
  {
   "cell_type": "code",
   "execution_count": 93,
   "metadata": {},
   "outputs": [
    {
     "data": {
      "text/plain": [
       "state\n",
       "SP                  202\n",
       "Santa Catarina        1\n",
       "São Paulo         63942\n",
       "dtype: int64"
      ]
     },
     "execution_count": 93,
     "metadata": {},
     "output_type": "execute_result"
    }
   ],
   "source": [
    "# Distribuição de frequências.\n",
    "df_treino.groupby('state').size()"
   ]
  },
  {
   "cell_type": "code",
   "execution_count": 94,
   "metadata": {},
   "outputs": [
    {
     "data": {
      "text/plain": [
       "'BR>Sao Paulo>NULL>Sao Paulo>Zona Norte>Lauzane Paulista'"
      ]
     },
     "execution_count": 94,
     "metadata": {},
     "output_type": "execute_result"
    }
   ],
   "source": [
    "# locationId da instância de Santa Catarina.\n",
    "# O imóvel é da ZN paulista.\n",
    "df_treino[df_treino['state'] == 'Santa Catarina']['locationId'][0]"
   ]
  },
  {
   "cell_type": "code",
   "execution_count": 95,
   "metadata": {},
   "outputs": [
    {
     "data": {
      "text/plain": [
       "array(['São Paulo', 'SP'], dtype=object)"
      ]
     },
     "execution_count": 95,
     "metadata": {},
     "output_type": "execute_result"
    }
   ],
   "source": [
    "# Valores únicos do conj. de teste.\n",
    "# Todos imóveis do estado de SP.\n",
    "df_teste['state'].unique()"
   ]
  },
  {
   "cell_type": "markdown",
   "metadata": {},
   "source": [
    "## 2.20) neighborhood"
   ]
  },
  {
   "cell_type": "markdown",
   "metadata": {},
   "source": [
    "* Há 10 valores missing.\n",
    "* Há 1130 bairros distintos no conjunto de treino. Boa parte dos valores aparece 1 ou 2 vezes. \n",
    "    * Presume-se que há bairros repetidos (variações na escrita, erros de digitação).\n",
    "* Provavelmente há bairros no conjunto de teste que não estão no de treino.\n",
    "* **As coordenadas geográficas dão informações bem parecidas e mais precisas.**\n",
    "* Não será usada no modelo."
   ]
  },
  {
   "cell_type": "code",
   "execution_count": 96,
   "metadata": {},
   "outputs": [
    {
     "data": {
      "text/plain": [
       "False    64136\n",
       "True        10\n",
       "Name: neighborhood, dtype: int64"
      ]
     },
     "execution_count": 96,
     "metadata": {},
     "output_type": "execute_result"
    }
   ],
   "source": [
    "# Verifica quantidade de valores missing.\n",
    "df_treino['neighborhood'].isna().value_counts()"
   ]
  },
  {
   "cell_type": "code",
   "execution_count": 97,
   "metadata": {},
   "outputs": [
    {
     "data": {
      "text/plain": [
       "neighborhood\n",
       "176                             3\n",
       "204                             4\n",
       "A. Pinheiros                    4\n",
       "Aclimação                     391\n",
       "Aeroporto                       2\n",
       "Alto Klabin                    10\n",
       "Alto Mandaqui                   1\n",
       "Alto da Boa Vista              13\n",
       "Alto da Lapa                  176\n",
       "Alto da Mooca                 285\n",
       "Alto de Pinheiros             240\n",
       "Alto do Pari                    7\n",
       "Altos de Vila Prudente          2\n",
       "Aricanduva                      9\n",
       "Artur Alvim                    35\n",
       "BROOKLIN                        2\n",
       "Balneário São Francisco         1\n",
       "Barra Funda                   126\n",
       "Barro Branco                    5\n",
       "Barro Branco (Zona Norte)      67\n",
       "Bela Aliança                    5\n",
       "Bela Vista                   1196\n",
       "Belenzinho                    196\n",
       "Belém                          53\n",
       "Boaçava                        35\n",
       "Bom Retiro                     22\n",
       "Bosque da Saúde               221\n",
       "Brasilândia                    39\n",
       "Brooklin                      181\n",
       "Brooklin Novo                  79\n",
       "                             ... \n",
       "Vila dos Remédios               6\n",
       "Vila rica                       1\n",
       "Vila Água Funda                 2\n",
       "Villaggio Panamby               5\n",
       "Vl Amélia                       2\n",
       "Vl Argentina                    1\n",
       "Vl Bertioga                     1\n",
       "Vl Firmiano                     1\n",
       "Vl M Velho                      6\n",
       "Vl Madalena                     5\n",
       "Vl Mariana                      1\n",
       "Vl Mascote                      1\n",
       "Vl Monumento/Ipiran             1\n",
       "Vl Paranagua                    2\n",
       "Vl Pompeia                      5\n",
       "Vl R Feijo                      3\n",
       "Vl. Iza                         1\n",
       "Vl. Mariana                     1\n",
       "Vl. Mazzei                      1\n",
       "Vl. Monte Alegre                1\n",
       "Vl. Nova Conceic                2\n",
       "Vl. Pauliceia                   1\n",
       "Vl. Prudente                    2\n",
       "Várzea da Barra Funda          29\n",
       "Várzea de Baixo                 5\n",
       "itaim                           2\n",
       "vila prudente                   1\n",
       "Água Branca                   144\n",
       "Água Fria                     298\n",
       "Água Rasa                     244\n",
       "Length: 1130, dtype: int64"
      ]
     },
     "execution_count": 97,
     "metadata": {},
     "output_type": "execute_result"
    }
   ],
   "source": [
    "# Distribuição de frequências.\n",
    "df_treino.groupby('neighborhood').size()"
   ]
  },
  {
   "cell_type": "markdown",
   "metadata": {},
   "source": [
    "## 2.21) suites"
   ]
  },
  {
   "cell_type": "markdown",
   "metadata": {},
   "source": [
    "* Há uma quantidade relativamente alta de missings no conjunto de treino (aprox. 8,5%).\n",
    "* Todos os valores missing dos conjuntos de treino e de teste serão substituídos pela mediana do conjunto de treino.\n",
    "* Valores acima de 5 são considerados outliers/muito raros e serão reduzidos para 5.\n",
    "    * Valores acima de 5 possuem uma frequência muito menor do que as demais categorias e podem enviezar o modelo.\n",
    "* Transformação \"Normalize\": tenta atenuar o efeito da escala sobre o modelo.\n",
    "* Gráfico mostra uma correlação fraca entre suites e preço: há uma leve tendência a ocorrerem preços maiores em imóveis com mais suites."
   ]
  },
  {
   "cell_type": "code",
   "execution_count": 98,
   "metadata": {},
   "outputs": [
    {
     "data": {
      "text/plain": [
       "False    58510\n",
       "True      5636\n",
       "Name: suites, dtype: int64"
      ]
     },
     "execution_count": 98,
     "metadata": {},
     "output_type": "execute_result"
    }
   ],
   "source": [
    "# Verifica quantidade de valores missing.\n",
    "df_treino['suites'].isna().value_counts()"
   ]
  },
  {
   "cell_type": "code",
   "execution_count": 99,
   "metadata": {},
   "outputs": [
    {
     "data": {
      "text/plain": [
       "suites\n",
       "0.0     17212\n",
       "1.0     26697\n",
       "2.0      4970\n",
       "3.0      6746\n",
       "4.0      2768\n",
       "5.0       104\n",
       "6.0         7\n",
       "7.0         1\n",
       "8.0         1\n",
       "10.0        2\n",
       "13.0        1\n",
       "23.0        1\n",
       "dtype: int64"
      ]
     },
     "execution_count": 99,
     "metadata": {},
     "output_type": "execute_result"
    }
   ],
   "source": [
    "# Distribuição de Frequências.\n",
    "df_treino.groupby('suites').size()"
   ]
  },
  {
   "cell_type": "code",
   "execution_count": 100,
   "metadata": {},
   "outputs": [
    {
     "data": {
      "text/plain": [
       "1.0"
      ]
     },
     "execution_count": 100,
     "metadata": {},
     "output_type": "execute_result"
    }
   ],
   "source": [
    "# Mediana da variável do conj. de treino.\n",
    "med = df_treino['suites'].median()\n",
    "med"
   ]
  },
  {
   "cell_type": "code",
   "execution_count": 101,
   "metadata": {},
   "outputs": [],
   "source": [
    "# Substitui valores missing de ambos os conjuntos pela mediana do conj. de treino.\n",
    "df_treino['suites'] = df_treino['suites'].apply(lambda x: med if pd.isna(x) else x)\n",
    "df_teste['suites'] = df_teste['suites'].apply(lambda x: med if pd.isna(x) else x)"
   ]
  },
  {
   "cell_type": "code",
   "execution_count": 102,
   "metadata": {},
   "outputs": [],
   "source": [
    "# Outlier. Valores acima de 4 são muito raros/muito altos e podem enviezar o modelo.\n",
    "lim = 5"
   ]
  },
  {
   "cell_type": "code",
   "execution_count": 103,
   "metadata": {},
   "outputs": [],
   "source": [
    "# Substitui outliers de ambos os conjuntos pelo valor 5.\n",
    "df_treino['suites'] = df_treino['suites'].apply(lambda x: lim if x > lim else x)\n",
    "df_teste['suites'] = df_teste['suites'].apply(lambda x: lim if x > lim else x)"
   ]
  },
  {
   "cell_type": "code",
   "execution_count": 104,
   "metadata": {},
   "outputs": [
    {
     "data": {
      "text/plain": [
       "suites\n",
       "0.0    17212\n",
       "1.0    32333\n",
       "2.0     4970\n",
       "3.0     6746\n",
       "4.0     2768\n",
       "5.0      117\n",
       "dtype: int64"
      ]
     },
     "execution_count": 104,
     "metadata": {},
     "output_type": "execute_result"
    }
   ],
   "source": [
    "# Nova distribuição de frequências.\n",
    "df_treino.groupby('suites').size()"
   ]
  },
  {
   "cell_type": "code",
   "execution_count": 105,
   "metadata": {},
   "outputs": [
    {
     "data": {
      "text/plain": [
       "[0.0, 5.0]"
      ]
     },
     "execution_count": 105,
     "metadata": {},
     "output_type": "execute_result"
    }
   ],
   "source": [
    "# Valores mínimos e máximos do conj. de treino.\n",
    "mini = df_treino['suites'].min()\n",
    "maxi = df_treino['suites'].max()\n",
    "[mini, maxi]"
   ]
  },
  {
   "cell_type": "code",
   "execution_count": 106,
   "metadata": {},
   "outputs": [],
   "source": [
    "# Transformação \"Normalize\" dos conjuntos de treino e de testes usando mínimo e máximo do conjunto de treino.\n",
    "df_treino['suites'] = df_treino['suites'].apply(lambda x: (x - mini)/(maxi - mini))\n",
    "df_teste['suites'] = df_teste['suites'].apply(lambda x: (x - mini)/(maxi - mini))"
   ]
  },
  {
   "cell_type": "code",
   "execution_count": 107,
   "metadata": {},
   "outputs": [
    {
     "data": {
      "text/plain": [
       "Text(0.5,0.98,'Histograma suites - conj. teste')"
      ]
     },
     "execution_count": 107,
     "metadata": {},
     "output_type": "execute_result"
    },
    {
     "data": {
      "image/png": "[encoded data removed]",
      "text/plain": [
       "<Figure size 432x288 with 1 Axes>"
      ]
     },
     "metadata": {},
     "output_type": "display_data"
    },
    {
     "data": {
      "image/png": "[encoded data removed]",
      "text/plain": [
       "<Figure size 432x288 with 1 Axes>"
      ]
     },
     "metadata": {},
     "output_type": "display_data"
    }
   ],
   "source": [
    "# Histogramas.\n",
    "df_treino['suites'].hist(bins=lim+1)\n",
    "plt.suptitle('Histograma suites - conj. treino')\n",
    "plt.figure()\n",
    "df_teste['suites'].hist(bins=lim+1)\n",
    "plt.suptitle('Histograma suites - conj. teste')"
   ]
  },
  {
   "cell_type": "code",
   "execution_count": 108,
   "metadata": {},
   "outputs": [
    {
     "data": {
      "text/plain": [
       "Text(0.5,0.98,'Scatter Plot price x suites - conjunto de treino')"
      ]
     },
     "execution_count": 108,
     "metadata": {},
     "output_type": "execute_result"
    },
    {
     "data": {
      "image/png": "[encoded data removed]",
      "text/plain": [
       "<Figure size 432x288 with 1 Axes>"
      ]
     },
     "metadata": {},
     "output_type": "display_data"
    }
   ],
   "source": [
    "# SCATTER PLOT relacionado variável ao preço.\n",
    "df_treino.plot.scatter(x='suites', y='price')\n",
    "plt.suptitle('Scatter Plot price x suites - conjunto de treino')"
   ]
  },
  {
   "cell_type": "markdown",
   "metadata": {},
   "source": [
    "## 2.22) publicationType"
   ]
  },
  {
   "cell_type": "markdown",
   "metadata": {},
   "source": [
    "* O valor Premium é muito raro (aprox. 1,67% em ambos os conjuntos de dados).\n",
    "* Não contém valores missing.\n",
    "* Precisa ser convertida em binário:\n",
    "    * 0: Standard\n",
    "    * 1: Premium\n",
    "* Será usada na esperança de fornecer alguma informação relevante, apesar de de ser muito desbalanceada (premium é muito raro em relação ao standard - ver histogramas).\n",
    "    * Aarentemente, publicações premium se referem a imóveis mais baratos, como pode ser visto no gráfico, mas tal diferença pode não ser significativa no modelo."
   ]
  },
  {
   "cell_type": "code",
   "execution_count": 109,
   "metadata": {},
   "outputs": [
    {
     "data": {
      "text/plain": [
       "False    64146\n",
       "Name: publicationType, dtype: int64"
      ]
     },
     "execution_count": 109,
     "metadata": {},
     "output_type": "execute_result"
    }
   ],
   "source": [
    "# Verifica quantidade de valores missing.\n",
    "df_treino['publicationType'].isna().value_counts()"
   ]
  },
  {
   "cell_type": "code",
   "execution_count": 110,
   "metadata": {},
   "outputs": [
    {
     "data": {
      "text/plain": [
       "STANDARD    63127\n",
       "PREMIUM      1019\n",
       "Name: publicationType, dtype: int64"
      ]
     },
     "execution_count": 110,
     "metadata": {},
     "output_type": "execute_result"
    }
   ],
   "source": [
    "# Distribuição de frequências - conj. treino.\n",
    "df_treino['publicationType'].value_counts()"
   ]
  },
  {
   "cell_type": "code",
   "execution_count": 111,
   "metadata": {},
   "outputs": [
    {
     "data": {
      "text/plain": [
       "STANDARD    15767\n",
       "PREMIUM       269\n",
       "Name: publicationType, dtype: int64"
      ]
     },
     "execution_count": 111,
     "metadata": {},
     "output_type": "execute_result"
    }
   ],
   "source": [
    "# Distribuição de frequências - conj. teste.\n",
    "df_teste['publicationType'].value_counts()"
   ]
  },
  {
   "cell_type": "code",
   "execution_count": 112,
   "metadata": {},
   "outputs": [],
   "source": [
    "# Conversão em binário: Standard = 0 e Premium = 1.\n",
    "df_treino['publicationType'] = df_treino['publicationType'].apply(lambda x: 1 if x == 'PREMIUM' else 0)\n",
    "df_teste['publicationType'] = df_teste['publicationType'].apply(lambda x: 1 if x == 'PREMIUM' else 0)"
   ]
  },
  {
   "cell_type": "code",
   "execution_count": 113,
   "metadata": {},
   "outputs": [
    {
     "data": {
      "text/plain": [
       "Text(0.5,0.98,'Histograma publicationType - conj. teste')"
      ]
     },
     "execution_count": 113,
     "metadata": {},
     "output_type": "execute_result"
    },
    {
     "data": {
      "image/png": "[encoded data removed]",
      "text/plain": [
       "<Figure size 432x288 with 1 Axes>"
      ]
     },
     "metadata": {},
     "output_type": "display_data"
    },
    {
     "data": {
      "image/png": "[encoded data removed]",
      "text/plain": [
       "<Figure size 432x288 with 1 Axes>"
      ]
     },
     "metadata": {},
     "output_type": "display_data"
    }
   ],
   "source": [
    "# Histogramas.\n",
    "df_treino['publicationType'].hist(bins=2)\n",
    "plt.suptitle('Histograma publicationType - conj. treino')\n",
    "plt.figure()\n",
    "df_teste['publicationType'].hist(bins=2)\n",
    "plt.suptitle('Histograma publicationType - conj. teste')"
   ]
  },
  {
   "cell_type": "code",
   "execution_count": 114,
   "metadata": {},
   "outputs": [
    {
     "data": {
      "text/plain": [
       "Text(0.5,0.98,'Scatter Plot price x publicationType - conjunto de treino')"
      ]
     },
     "execution_count": 114,
     "metadata": {},
     "output_type": "execute_result"
    },
    {
     "data": {
      "image/png": "[encoded data removed]",
      "text/plain": [
       "<Figure size 432x288 with 1 Axes>"
      ]
     },
     "metadata": {},
     "output_type": "display_data"
    }
   ],
   "source": [
    "# SCATTER PLOT relacionado variável ao preço.\n",
    "df_treino.plot.scatter(x='publicationType', y='price')\n",
    "plt.suptitle('Scatter Plot price x publicationType - conjunto de treino')"
   ]
  },
  {
   "cell_type": "markdown",
   "metadata": {},
   "source": [
    "## 2.23) bathrooms"
   ]
  },
  {
   "cell_type": "markdown",
   "metadata": {},
   "source": [
    "* Possui apenas 1 valor missing: será substituído pela mediana.\n",
    "* Valores acima de 7 são considerados outliers/muito raros e serão reduzidos para 7.\n",
    "    * Valores a partir de 7 possuem uma frequência muito menor do que as demais categorias e podem enviezar o modelo.\n",
    "* Transformação \"Normalize\": tenta atenuar o efeito da escala sobre o modelo.\n",
    "* É bastante estranho haver apartamentos com 0 banheiros.\n",
    "    * Uma investigação mais profunda deve ser realizada para descobrir os motivos.\n",
    "    * Talvez tais apartamentos devam ser trocados para a classe com 1 banheiro.\n",
    "* Gráfico mostra uma correlação muito fraca entre bathrooms e preço: há uma ligeira tendência a ocorrerem preços maiores em imóveis com mais banheiros.\n",
    "    * **Dificilmente será útil ao modelo de previsão.**"
   ]
  },
  {
   "cell_type": "code",
   "execution_count": 115,
   "metadata": {},
   "outputs": [
    {
     "data": {
      "text/plain": [
       "False    64145\n",
       "True         1\n",
       "Name: bathrooms, dtype: int64"
      ]
     },
     "execution_count": 115,
     "metadata": {},
     "output_type": "execute_result"
    }
   ],
   "source": [
    "# Verifica quantidade de valores missing.\n",
    "df_treino['bathrooms'].isna().value_counts()"
   ]
  },
  {
   "cell_type": "code",
   "execution_count": 116,
   "metadata": {},
   "outputs": [
    {
     "data": {
      "text/plain": [
       "bathrooms\n",
       "0.0      2053\n",
       "1.0     21985\n",
       "2.0     18601\n",
       "3.0      9308\n",
       "4.0      5803\n",
       "5.0      4512\n",
       "6.0      1609\n",
       "7.0       195\n",
       "8.0        48\n",
       "9.0        13\n",
       "10.0        1\n",
       "11.0        1\n",
       "12.0        5\n",
       "13.0        1\n",
       "14.0        1\n",
       "15.0        1\n",
       "22.0        1\n",
       "33.0        1\n",
       "53.0        2\n",
       "99.0        4\n",
       "dtype: int64"
      ]
     },
     "execution_count": 116,
     "metadata": {},
     "output_type": "execute_result"
    }
   ],
   "source": [
    "# Distribuição de frequências.\n",
    "df_treino.groupby('bathrooms').size()"
   ]
  },
  {
   "cell_type": "code",
   "execution_count": 117,
   "metadata": {},
   "outputs": [
    {
     "data": {
      "text/plain": [
       "2.0"
      ]
     },
     "execution_count": 117,
     "metadata": {},
     "output_type": "execute_result"
    }
   ],
   "source": [
    "# Mediana da variável do conj. de treino.\n",
    "med = df_treino['bathrooms'].median()\n",
    "med"
   ]
  },
  {
   "cell_type": "code",
   "execution_count": 118,
   "metadata": {},
   "outputs": [],
   "source": [
    "# Substitui valores missing de ambos os conjuntos pela mediana do conj. de treino.\n",
    "df_treino['bathrooms'] = df_treino['bathrooms'].apply(lambda x: med if pd.isna(x) else x)\n",
    "df_teste['bathrooms'] = df_teste['bathrooms'].apply(lambda x: med if pd.isna(x) else x)"
   ]
  },
  {
   "cell_type": "code",
   "execution_count": 119,
   "metadata": {},
   "outputs": [],
   "source": [
    "# Outlier: valores a partir de 7 são muito raros/altos e podem enviezar o modelo.\n",
    "lim = 7"
   ]
  },
  {
   "cell_type": "code",
   "execution_count": 120,
   "metadata": {},
   "outputs": [],
   "source": [
    "# Substitui outliers de ambos os conjuntos pelo valor 5.\n",
    "df_treino['bathrooms'] = df_treino['bathrooms'].apply(lambda x: lim if x > lim else x)\n",
    "df_teste['bathrooms'] = df_teste['bathrooms'].apply(lambda x: lim if x > lim else x)"
   ]
  },
  {
   "cell_type": "code",
   "execution_count": 121,
   "metadata": {},
   "outputs": [
    {
     "data": {
      "text/plain": [
       "bathrooms\n",
       "0.0     2053\n",
       "1.0    21985\n",
       "2.0    18602\n",
       "3.0     9308\n",
       "4.0     5803\n",
       "5.0     4512\n",
       "6.0     1609\n",
       "7.0      274\n",
       "dtype: int64"
      ]
     },
     "execution_count": 121,
     "metadata": {},
     "output_type": "execute_result"
    }
   ],
   "source": [
    "# Nova distribuição de frequências.\n",
    "df_treino.groupby('bathrooms').size()"
   ]
  },
  {
   "cell_type": "code",
   "execution_count": 122,
   "metadata": {},
   "outputs": [
    {
     "data": {
      "text/plain": [
       "[0.0, 7.0]"
      ]
     },
     "execution_count": 122,
     "metadata": {},
     "output_type": "execute_result"
    }
   ],
   "source": [
    "# Valores mínimo e máximo da variável.\n",
    "mini = df_treino['bathrooms'].min()\n",
    "maxi = df_treino['bathrooms'].max()\n",
    "[mini, maxi]"
   ]
  },
  {
   "cell_type": "code",
   "execution_count": 123,
   "metadata": {},
   "outputs": [],
   "source": [
    "# Transformação \"Normalize\" dos conjuntos de treino e de testes usando mínimo e máximo do conjunto de treino.\n",
    "df_treino['bathrooms'] = df_treino['bathrooms'].apply(lambda x: (x - mini)/(maxi - mini))\n",
    "df_teste['bathrooms'] = df_teste['bathrooms'].apply(lambda x: (x - mini)/(maxi - mini))"
   ]
  },
  {
   "cell_type": "code",
   "execution_count": 124,
   "metadata": {},
   "outputs": [
    {
     "data": {
      "text/plain": [
       "Text(0.5,0.98,'Histograma bathrooms - conj. treino')"
      ]
     },
     "execution_count": 124,
     "metadata": {},
     "output_type": "execute_result"
    },
    {
     "data": {
      "image/png": "[encoded data removed]",
      "text/plain": [
       "<Figure size 432x288 with 1 Axes>"
      ]
     },
     "metadata": {},
     "output_type": "display_data"
    },
    {
     "data": {
      "image/png": "[encoded data removed]",
      "text/plain": [
       "<Figure size 432x288 with 1 Axes>"
      ]
     },
     "metadata": {},
     "output_type": "display_data"
    }
   ],
   "source": [
    "# Histogramas.\n",
    "df_treino['bathrooms'].hist(bins=lim+1)\n",
    "plt.suptitle('Histograma bathrooms - conj. treino')\n",
    "plt.figure()\n",
    "df_teste['bathrooms'].hist(bins=lim+1)\n",
    "plt.suptitle('Histograma bathrooms - conj. treino')"
   ]
  },
  {
   "cell_type": "code",
   "execution_count": 125,
   "metadata": {},
   "outputs": [
    {
     "data": {
      "text/plain": [
       "Text(0.5,0.98,'Scatter Plot price x bathrooms - conjunto de treino')"
      ]
     },
     "execution_count": 125,
     "metadata": {},
     "output_type": "execute_result"
    },
    {
     "data": {
      "image/png": "[encoded data removed]",
      "text/plain": [
       "<Figure size 432x288 with 1 Axes>"
      ]
     },
     "metadata": {},
     "output_type": "display_data"
    }
   ],
   "source": [
    "# SCATTER PLOT relacionado variável ao preço.\n",
    "df_treino.plot.scatter(x='bathrooms', y='price')\n",
    "plt.suptitle('Scatter Plot price x bathrooms - conjunto de treino')"
   ]
  },
  {
   "cell_type": "markdown",
   "metadata": {},
   "source": [
    "## 2.24) totalAreas"
   ]
  },
  {
   "cell_type": "markdown",
   "metadata": {},
   "source": [
    "* Aproximadamente 40% dos valores é missing.\n",
    "* Indica informação muito similar àquela da variável usablearea.\n",
    "* Não será usada."
   ]
  },
  {
   "cell_type": "code",
   "execution_count": 126,
   "metadata": {},
   "outputs": [
    {
     "data": {
      "text/plain": [
       "False    39190\n",
       "True     24956\n",
       "Name: totalAreas, dtype: int64"
      ]
     },
     "execution_count": 126,
     "metadata": {},
     "output_type": "execute_result"
    }
   ],
   "source": [
    "# Verifica quantidade de valores missing.\n",
    "df_treino['totalAreas'].isna().value_counts()"
   ]
  },
  {
   "cell_type": "markdown",
   "metadata": {},
   "source": [
    "## 2.25) bedrooms"
   ]
  },
  {
   "cell_type": "markdown",
   "metadata": {},
   "source": [
    "* Não possui valores missing.\n",
    "* Valores acima de 5 são considerados outliers/muito raros e serão reduzidos para 5.\n",
    "    * Valores a partir de 5 possuem uma frequência muito menor do que as demais categorias e podem enviezar o modelo.\n",
    "* Transformação \"Normalize\": tenta atenuar o efeito da escala sobre o modelo.\n",
    "* É bastante estranho haver apartamentos com 0 quartos: valor típico de kitnets, não de apartamentos.\n",
    "    * Uma investigação mais profunda deve ser realizada para descobrir os motivos.\n",
    "    * Talvez tais apartamentos devam ser trocados para a classe com 1 quarto.\n",
    "* Gráfico mostra uma correlação fraca entre bedrooms e preço: há uma leve tendência a ocorrerem preços maiores em imóveis com mais quartos (a tendência se inverte para quantidades maiores de quartos)."
   ]
  },
  {
   "cell_type": "code",
   "execution_count": 127,
   "metadata": {},
   "outputs": [
    {
     "data": {
      "text/plain": [
       "False    64146\n",
       "Name: bedrooms, dtype: int64"
      ]
     },
     "execution_count": 127,
     "metadata": {},
     "output_type": "execute_result"
    }
   ],
   "source": [
    "# Verifica quantidade de valores missing.\n",
    "df_treino['bedrooms'].isna().value_counts()"
   ]
  },
  {
   "cell_type": "code",
   "execution_count": 128,
   "metadata": {},
   "outputs": [
    {
     "data": {
      "text/plain": [
       "bathrooms\n",
       "0.000000     2053\n",
       "0.142857    21985\n",
       "0.285714    18602\n",
       "0.428571     9308\n",
       "0.571429     5803\n",
       "0.714286     4512\n",
       "0.857143     1609\n",
       "1.000000      274\n",
       "dtype: int64"
      ]
     },
     "execution_count": 128,
     "metadata": {},
     "output_type": "execute_result"
    }
   ],
   "source": [
    "# Distribuição de frequências.\n",
    "df_treino.groupby('bathrooms').size()"
   ]
  },
  {
   "cell_type": "code",
   "execution_count": 129,
   "metadata": {},
   "outputs": [],
   "source": [
    "# Outlier: valores a partir de 5 são muito raros/altos e podem enviezar o modelo.\n",
    "lim = 5"
   ]
  },
  {
   "cell_type": "code",
   "execution_count": 130,
   "metadata": {},
   "outputs": [],
   "source": [
    "# Substitui outliers de ambos os conjuntos pelo valor 5.\n",
    "df_treino['bedrooms'] = df_treino['bedrooms'].apply(lambda x: lim if x > lim else x)\n",
    "df_teste['bedrooms'] = df_teste['bedrooms'].apply(lambda x: lim if x > lim else x)"
   ]
  },
  {
   "cell_type": "code",
   "execution_count": 131,
   "metadata": {},
   "outputs": [
    {
     "data": {
      "text/plain": [
       "bedrooms\n",
       "0.0      116\n",
       "1.0     5471\n",
       "2.0    24142\n",
       "3.0    26519\n",
       "4.0     7609\n",
       "5.0      289\n",
       "dtype: int64"
      ]
     },
     "execution_count": 131,
     "metadata": {},
     "output_type": "execute_result"
    }
   ],
   "source": [
    "# Nova distribuição de frequências.\n",
    "df_treino.groupby('bedrooms').size()"
   ]
  },
  {
   "cell_type": "code",
   "execution_count": 132,
   "metadata": {},
   "outputs": [
    {
     "data": {
      "text/plain": [
       "[0.0, 5.0]"
      ]
     },
     "execution_count": 132,
     "metadata": {},
     "output_type": "execute_result"
    }
   ],
   "source": [
    "# Valores mínimo e máximo da variável.\n",
    "mini = df_treino['bedrooms'].min()\n",
    "maxi = df_treino['bedrooms'].max()\n",
    "[mini, maxi]"
   ]
  },
  {
   "cell_type": "code",
   "execution_count": 133,
   "metadata": {},
   "outputs": [],
   "source": [
    "# Transformação \"Normalize\" dos conjuntos de treino e de testes usando mínimo e máximo do conjunto de treino.\n",
    "df_treino['bedrooms'] = df_treino['bedrooms'].apply(lambda x: (x - mini)/(maxi - mini))\n",
    "df_teste['bedrooms'] = df_teste['bedrooms'].apply(lambda x: (x - mini)/(maxi - mini))"
   ]
  },
  {
   "cell_type": "code",
   "execution_count": 134,
   "metadata": {},
   "outputs": [
    {
     "data": {
      "text/plain": [
       "Text(0.5,0.98,'Histograma bedrooms - conj. treino')"
      ]
     },
     "execution_count": 134,
     "metadata": {},
     "output_type": "execute_result"
    },
    {
     "data": {
      "image/png": "[encoded data removed]",
      "text/plain": [
       "<Figure size 432x288 with 1 Axes>"
      ]
     },
     "metadata": {},
     "output_type": "display_data"
    },
    {
     "data": {
      "image/png": "[encoded data removed]",
      "text/plain": [
       "<Figure size 432x288 with 1 Axes>"
      ]
     },
     "metadata": {},
     "output_type": "display_data"
    }
   ],
   "source": [
    "# Histogramas.\n",
    "df_treino['bedrooms'].hist(bins=lim+1)\n",
    "plt.suptitle('Histograma bedrooms - conj. treino')\n",
    "plt.figure()\n",
    "df_teste['bedrooms'].hist(bins=lim+1)\n",
    "plt.suptitle('Histograma bedrooms - conj. treino')"
   ]
  },
  {
   "cell_type": "code",
   "execution_count": 135,
   "metadata": {},
   "outputs": [
    {
     "data": {
      "text/plain": [
       "Text(0.5,0.98,'Scatter Plot price x bedrooms - conjunto de treino')"
      ]
     },
     "execution_count": 135,
     "metadata": {},
     "output_type": "execute_result"
    },
    {
     "data": {
      "image/png": "[encoded data removed]",
      "text/plain": [
       "<Figure size 432x288 with 1 Axes>"
      ]
     },
     "metadata": {},
     "output_type": "display_data"
    }
   ],
   "source": [
    "# SCATTER PLOT relacionado variável ao preço.\n",
    "df_treino.plot.scatter(x='bedrooms', y='price')\n",
    "plt.suptitle('Scatter Plot price x bedrooms - conjunto de treino')"
   ]
  },
  {
   "cell_type": "markdown",
   "metadata": {},
   "source": [
    "## 2.26) yearlyIptu, monthlyCondoFee"
   ]
  },
  {
   "cell_type": "markdown",
   "metadata": {},
   "source": [
    "* Variáveis de saída. \n",
    "* Não serão estudadas ou usadas."
   ]
  },
  {
   "cell_type": "markdown",
   "metadata": {},
   "source": [
    "# 3) Escolha do algoritmo de regressão"
   ]
  },
  {
   "cell_type": "markdown",
   "metadata": {},
   "source": [
    "## 3.1) Métricas\n",
    "* A métrica escolhida será a **mediana do erro absoluto (MAE)**:\n",
    "    * Calcula o erro absoluto de cada instância e determina a mediana do resultado.\n",
    "    * Insensível a outliers: oferece resultados mais confiáveis para imóveis cujos valores são mais fáceis de prever, mesmo que ao possível custo de errar mais em imóveis mais difíceis.\n",
    "* Métrica auxiliar (para complementar a análise): R quardado (R2)\n",
    "    * Fornece a proporção da variância dos dados explicada pelo modelo.\n",
    "* Métrica auxiliar (para complementar a análise): média do erro quadrático (MSE)\n",
    "    * Soma do quadrado dos erros.\n",
    "    * Muito sensível a outliers (um bom modelo que erra apenas em outliers pode ser visto como um modelo ruim)."
   ]
  },
  {
   "cell_type": "markdown",
   "metadata": {},
   "source": [
    "## 3.2) Algoritmos de Regressão\n",
    "1. **Regressão Linear**\n",
    "    * Pressupõe relação linear entre entradas e saídas.\n",
    "    * Sabe-se que as variáveis 'lon' e 'lat', que seespera que sejam importantes, não apresentam relação linear com o preço.\n",
    "    * O modelo não deve performar em, e será estado apenas para fins de comparação.\n",
    "<br><br>\n",
    "2. **Regressão por Árvores de Decisão**\n",
    "    * Consegue lidar muito bem com entradas fora de esala, sem distribuição normal e sem relação linear com a saída, mas possui forte tendência ao overfitting.\n",
    "    * Fornee a importânca de cada atributo: importante para feature selection.\n",
    "    * Não serão testados diferentes hiperparâmetros: a princípio, busco modelos simples. Em um projeto real, seria necesaria uma nova etapa para refinamento do modelo.\n",
    "<br><br>\n",
    "3. **Regressão por k Vizinhos mais Próximos**\n",
    "    * O valor previsto é a média dos k Vizinhos mais Próximos. \n",
    "    * Requer escalas normalizadas para não sobrevalorizar variáveis com maior escala.\n",
    "    * Não requer proporção linear entre entradas e saídas\n",
    "    * Será usado o default de k = 5 vizinhos."
   ]
  },
  {
   "cell_type": "markdown",
   "metadata": {},
   "source": [
    "## 3.3) Testes para escolha das features\n",
    "1. Serão usadas apenas as features e target escolhidos na etapa 2, já devidamente pré-processadas.\n",
    "2. Para cada modelo, serão calculadas as três métricas.\n",
    "3. Haverão 100 testes aleatórios, o resultado de cada métrica é a média dos 100 resulados.\n",
    "4. A importância de cada feature via Regressão por Árvore de Decisão também será a média dos 100 resultados.\n",
    "5. As features mais importantes passam para a próxima etapa."
   ]
  },
  {
   "cell_type": "code",
   "execution_count": 136,
   "metadata": {},
   "outputs": [
    {
     "data": {
      "text/html": [
       "<div>\n",
       "<style scoped>\n",
       "    .dataframe tbody tr th:only-of-type {\n",
       "        vertical-align: middle;\n",
       "    }\n",
       "\n",
       "    .dataframe tbody tr th {\n",
       "        vertical-align: top;\n",
       "    }\n",
       "\n",
       "    .dataframe thead th {\n",
       "        text-align: right;\n",
       "    }\n",
       "</style>\n",
       "<table border=\"1\" class=\"dataframe\">\n",
       "  <thead>\n",
       "    <tr style=\"text-align: right;\">\n",
       "      <th></th>\n",
       "      <th>usableAreas</th>\n",
       "      <th>parkingSpaces</th>\n",
       "      <th>lat</th>\n",
       "      <th>lon</th>\n",
       "      <th>locationId_zone_ZL</th>\n",
       "      <th>locationId_zone_ZN</th>\n",
       "      <th>locationId_zone_ZO</th>\n",
       "      <th>locationId_zone_ZS</th>\n",
       "      <th>suites</th>\n",
       "      <th>publicationType</th>\n",
       "      <th>bathrooms</th>\n",
       "      <th>bedrooms</th>\n",
       "    </tr>\n",
       "    <tr>\n",
       "      <th>id</th>\n",
       "      <th></th>\n",
       "      <th></th>\n",
       "      <th></th>\n",
       "      <th></th>\n",
       "      <th></th>\n",
       "      <th></th>\n",
       "      <th></th>\n",
       "      <th></th>\n",
       "      <th></th>\n",
       "      <th></th>\n",
       "      <th></th>\n",
       "      <th></th>\n",
       "    </tr>\n",
       "  </thead>\n",
       "  <tbody>\n",
       "    <tr>\n",
       "      <th>6654d93423</th>\n",
       "      <td>-0.370807</td>\n",
       "      <td>0.285714</td>\n",
       "      <td>-0.778773</td>\n",
       "      <td>-0.563757</td>\n",
       "      <td>0</td>\n",
       "      <td>0</td>\n",
       "      <td>0</td>\n",
       "      <td>1</td>\n",
       "      <td>0.2</td>\n",
       "      <td>0</td>\n",
       "      <td>0.285714</td>\n",
       "      <td>0.6</td>\n",
       "    </tr>\n",
       "    <tr>\n",
       "      <th>9ffaf676ae</th>\n",
       "      <td>14.481554</td>\n",
       "      <td>0.714286</td>\n",
       "      <td>-0.453589</td>\n",
       "      <td>-0.076124</td>\n",
       "      <td>0</td>\n",
       "      <td>0</td>\n",
       "      <td>0</td>\n",
       "      <td>1</td>\n",
       "      <td>0.8</td>\n",
       "      <td>0</td>\n",
       "      <td>0.714286</td>\n",
       "      <td>0.8</td>\n",
       "    </tr>\n",
       "    <tr>\n",
       "      <th>f03e22422a</th>\n",
       "      <td>-0.210887</td>\n",
       "      <td>0.285714</td>\n",
       "      <td>-0.010006</td>\n",
       "      <td>-0.622331</td>\n",
       "      <td>0</td>\n",
       "      <td>0</td>\n",
       "      <td>1</td>\n",
       "      <td>0</td>\n",
       "      <td>0.0</td>\n",
       "      <td>0</td>\n",
       "      <td>0.142857</td>\n",
       "      <td>0.6</td>\n",
       "    </tr>\n",
       "    <tr>\n",
       "      <th>8e1922c386</th>\n",
       "      <td>0.325988</td>\n",
       "      <td>0.285714</td>\n",
       "      <td>-0.152114</td>\n",
       "      <td>0.327401</td>\n",
       "      <td>0</td>\n",
       "      <td>0</td>\n",
       "      <td>0</td>\n",
       "      <td>0</td>\n",
       "      <td>0.6</td>\n",
       "      <td>1</td>\n",
       "      <td>0.571429</td>\n",
       "      <td>0.8</td>\n",
       "    </tr>\n",
       "    <tr>\n",
       "      <th>690407f653</th>\n",
       "      <td>0.862863</td>\n",
       "      <td>0.428571</td>\n",
       "      <td>-1.543414</td>\n",
       "      <td>-1.371857</td>\n",
       "      <td>0</td>\n",
       "      <td>0</td>\n",
       "      <td>0</td>\n",
       "      <td>1</td>\n",
       "      <td>0.8</td>\n",
       "      <td>0</td>\n",
       "      <td>0.000000</td>\n",
       "      <td>0.8</td>\n",
       "    </tr>\n",
       "  </tbody>\n",
       "</table>\n",
       "</div>"
      ],
      "text/plain": [
       "            usableAreas  parkingSpaces       lat       lon  \\\n",
       "id                                                           \n",
       "6654d93423    -0.370807       0.285714 -0.778773 -0.563757   \n",
       "9ffaf676ae    14.481554       0.714286 -0.453589 -0.076124   \n",
       "f03e22422a    -0.210887       0.285714 -0.010006 -0.622331   \n",
       "8e1922c386     0.325988       0.285714 -0.152114  0.327401   \n",
       "690407f653     0.862863       0.428571 -1.543414 -1.371857   \n",
       "\n",
       "            locationId_zone_ZL  locationId_zone_ZN  locationId_zone_ZO  \\\n",
       "id                                                                       \n",
       "6654d93423                   0                   0                   0   \n",
       "9ffaf676ae                   0                   0                   0   \n",
       "f03e22422a                   0                   0                   1   \n",
       "8e1922c386                   0                   0                   0   \n",
       "690407f653                   0                   0                   0   \n",
       "\n",
       "            locationId_zone_ZS  suites  publicationType  bathrooms  bedrooms  \n",
       "id                                                                            \n",
       "6654d93423                   1     0.2                0   0.285714       0.6  \n",
       "9ffaf676ae                   1     0.8                0   0.714286       0.8  \n",
       "f03e22422a                   0     0.0                0   0.142857       0.6  \n",
       "8e1922c386                   0     0.6                1   0.571429       0.8  \n",
       "690407f653                   1     0.8                0   0.000000       0.8  "
      ]
     },
     "execution_count": 136,
     "metadata": {},
     "output_type": "execute_result"
    }
   ],
   "source": [
    "# Features.\n",
    "X = df_treino[['usableAreas', 'parkingSpaces', 'lat', 'lon', 'locationId_zone_ZL', 'locationId_zone_ZN',  \n",
    "               'locationId_zone_ZO', 'locationId_zone_ZS', 'suites', 'publicationType', 'bathrooms', 'bedrooms']]\n",
    "X.head()"
   ]
  },
  {
   "cell_type": "code",
   "execution_count": 137,
   "metadata": {},
   "outputs": [],
   "source": [
    "# Traget.\n",
    "y = df_treino[['price']]"
   ]
  },
  {
   "cell_type": "code",
   "execution_count": 138,
   "metadata": {},
   "outputs": [],
   "source": [
    "# 100 experimentos: calcula métricas e feature importances.\n",
    "\n",
    "n = 100\n",
    "[r2_lnr, r2_dtr, r2_knr, mse_lnr, mse_dtr, mse_knr, mae_lnr, mae_dtr, mae_knr] = [0]*9\n",
    "\n",
    "col_names = X.columns \n",
    "feat_imp = np.array([0]*len(col_names))\n",
    "\n",
    "for i in range(n):\n",
    "    X_train, X_test, y_train, y_test = train_test_split(X, y, test_size=0.2)\n",
    "    \n",
    "    lnr_model = LinearRegression()\n",
    "    lnr_model.fit(X_train, y_train)\n",
    "    y_pred = lnr_model.predict(X_test)\n",
    "    r2_lnr = r2_lnr + r2_score(y_test, y_pred)\n",
    "    mse_lnr = mse_lnr + mean_squared_error(y_test, y_pred)\n",
    "    mae_lnr = mae_lnr + median_absolute_error(y_test, y_pred)\n",
    "    \n",
    "    dtr_model = DecisionTreeRegressor()\n",
    "    dtr_model.fit(X_train, y_train)\n",
    "    y_pred = dtr_model.predict(X_test)\n",
    "    r2_dtr = r2_dtr + r2_score(y_test, y_pred)\n",
    "    feat_imp = feat_imp + dtr_model.feature_importances_\n",
    "    mse_dtr = mse_dtr + mean_squared_error(y_test, y_pred)\n",
    "    mae_dtr = mae_dtr + median_absolute_error(y_test, y_pred)\n",
    "    \n",
    "    knr_model = KNeighborsRegressor()\n",
    "    knr_model.fit(X_train, y_train)\n",
    "    y_pred = knr_model.predict(X_test)\n",
    "    r2_knr = r2_knr + r2_score(y_test, y_pred)\n",
    "    mse_knr = mse_knr + mean_squared_error(y_test, y_pred)\n",
    "    mae_knr = mae_knr + median_absolute_error(y_test, y_pred)\n",
    "    \n",
    "feat_imp = feat_imp/n\n",
    "\n",
    "[r2_lnr, r2_dtr, r2_knr, mse_lnr, mse_dtr, mse_knr, mae_lnr, mae_dtr, mae_knr] = list(\n",
    "    np.array([r2_lnr, r2_dtr, r2_knr, mse_lnr, mse_dtr, mse_knr, mae_lnr, mae_dtr, mae_knr])/n)"
   ]
  },
  {
   "cell_type": "code",
   "execution_count": 139,
   "metadata": {},
   "outputs": [
    {
     "data": {
      "text/html": [
       "<div>\n",
       "<style scoped>\n",
       "    .dataframe tbody tr th:only-of-type {\n",
       "        vertical-align: middle;\n",
       "    }\n",
       "\n",
       "    .dataframe tbody tr th {\n",
       "        vertical-align: top;\n",
       "    }\n",
       "\n",
       "    .dataframe thead th {\n",
       "        text-align: right;\n",
       "    }\n",
       "</style>\n",
       "<table border=\"1\" class=\"dataframe\">\n",
       "  <thead>\n",
       "    <tr style=\"text-align: right;\">\n",
       "      <th></th>\n",
       "      <th>r-sqared</th>\n",
       "      <th>mean square error</th>\n",
       "      <th>median absolute error</th>\n",
       "    </tr>\n",
       "  </thead>\n",
       "  <tbody>\n",
       "    <tr>\n",
       "      <th>LinearRegression</th>\n",
       "      <td>0.665403</td>\n",
       "      <td>3.409752e+11</td>\n",
       "      <td>135784.009153</td>\n",
       "    </tr>\n",
       "    <tr>\n",
       "      <th>DecisionTreeRegressor</th>\n",
       "      <td>0.856149</td>\n",
       "      <td>1.466363e+11</td>\n",
       "      <td>38548.823750</td>\n",
       "    </tr>\n",
       "    <tr>\n",
       "      <th>KNeighborsRegressor</th>\n",
       "      <td>0.861355</td>\n",
       "      <td>1.414154e+11</td>\n",
       "      <td>45558.585000</td>\n",
       "    </tr>\n",
       "  </tbody>\n",
       "</table>\n",
       "</div>"
      ],
      "text/plain": [
       "                       r-sqared  mean square error  median absolute error\n",
       "LinearRegression       0.665403       3.409752e+11          135784.009153\n",
       "DecisionTreeRegressor  0.856149       1.466363e+11           38548.823750\n",
       "KNeighborsRegressor    0.861355       1.414154e+11           45558.585000"
      ]
     },
     "execution_count": 139,
     "metadata": {},
     "output_type": "execute_result"
    }
   ],
   "source": [
    "# Resultados das métricas.\n",
    "results = pd.DataFrame({'r-sqared': [r2_lnr, r2_dtr, r2_knr],\n",
    "                        'mean square error': [mse_lnr, mse_dtr, mse_knr],\n",
    "                        'median absolute error': [mae_lnr, mae_dtr, mae_knr]},\n",
    "                       index = ['LinearRegression','DecisionTreeRegressor','KNeighborsRegressor'])\n",
    "results"
   ]
  },
  {
   "cell_type": "code",
   "execution_count": 140,
   "metadata": {},
   "outputs": [
    {
     "data": {
      "text/html": [
       "<div>\n",
       "<style scoped>\n",
       "    .dataframe tbody tr th:only-of-type {\n",
       "        vertical-align: middle;\n",
       "    }\n",
       "\n",
       "    .dataframe tbody tr th {\n",
       "        vertical-align: top;\n",
       "    }\n",
       "\n",
       "    .dataframe thead th {\n",
       "        text-align: right;\n",
       "    }\n",
       "</style>\n",
       "<table border=\"1\" class=\"dataframe\">\n",
       "  <thead>\n",
       "    <tr style=\"text-align: right;\">\n",
       "      <th></th>\n",
       "      <th>0</th>\n",
       "    </tr>\n",
       "  </thead>\n",
       "  <tbody>\n",
       "    <tr>\n",
       "      <th>usableAreas</th>\n",
       "      <td>0.714813</td>\n",
       "    </tr>\n",
       "    <tr>\n",
       "      <th>parkingSpaces</th>\n",
       "      <td>0.066718</td>\n",
       "    </tr>\n",
       "    <tr>\n",
       "      <th>lat</th>\n",
       "      <td>0.097182</td>\n",
       "    </tr>\n",
       "    <tr>\n",
       "      <th>lon</th>\n",
       "      <td>0.094071</td>\n",
       "    </tr>\n",
       "    <tr>\n",
       "      <th>locationId_zone_ZL</th>\n",
       "      <td>0.000093</td>\n",
       "    </tr>\n",
       "    <tr>\n",
       "      <th>locationId_zone_ZN</th>\n",
       "      <td>0.000153</td>\n",
       "    </tr>\n",
       "    <tr>\n",
       "      <th>locationId_zone_ZO</th>\n",
       "      <td>0.001315</td>\n",
       "    </tr>\n",
       "    <tr>\n",
       "      <th>locationId_zone_ZS</th>\n",
       "      <td>0.003850</td>\n",
       "    </tr>\n",
       "    <tr>\n",
       "      <th>suites</th>\n",
       "      <td>0.009662</td>\n",
       "    </tr>\n",
       "    <tr>\n",
       "      <th>publicationType</th>\n",
       "      <td>0.000530</td>\n",
       "    </tr>\n",
       "    <tr>\n",
       "      <th>bathrooms</th>\n",
       "      <td>0.006937</td>\n",
       "    </tr>\n",
       "    <tr>\n",
       "      <th>bedrooms</th>\n",
       "      <td>0.004675</td>\n",
       "    </tr>\n",
       "  </tbody>\n",
       "</table>\n",
       "</div>"
      ],
      "text/plain": [
       "                           0\n",
       "usableAreas         0.714813\n",
       "parkingSpaces       0.066718\n",
       "lat                 0.097182\n",
       "lon                 0.094071\n",
       "locationId_zone_ZL  0.000093\n",
       "locationId_zone_ZN  0.000153\n",
       "locationId_zone_ZO  0.001315\n",
       "locationId_zone_ZS  0.003850\n",
       "suites              0.009662\n",
       "publicationType     0.000530\n",
       "bathrooms           0.006937\n",
       "bedrooms            0.004675"
      ]
     },
     "execution_count": 140,
     "metadata": {},
     "output_type": "execute_result"
    }
   ],
   "source": [
    "# Resultados das feature importances.\n",
    "importances = pd.DataFrame(data = feat_imp, index=col_names)\n",
    "importances"
   ]
  },
  {
   "cell_type": "markdown",
   "metadata": {},
   "source": [
    "### Conclusão:\n",
    "* A DecisionTreeRegressor apresenta o melhor resultado de MAE até então, apesar de possuir desempenho inferior ao KNeighborsRegressor nas métricas auxiliares. Esta discussão será aprofundada mais adiante.\n",
    "* Os features com maior importância, em ordem decrescente, são: \n",
    "    1. **usableAreas:** Este resultado era mais do que esperado: é bastante consolidado no mercado imobiliário que o preço de um imóvel possui dependência muito alta da sua área; além disto, a análise das variáveis já indicava uma forte correlação.\n",
    "    2. **lat:** Também um resultado esperado: tanto pela análise das variáveis (ver histograma 2D acima no item 2.15), quanto pelp fato de que a localização de um imóvel costuma ter forte impacto pelo preço.\n",
    "    3. **lon:** Idem anterior.\n",
    "    4. **parkingSpaces:** Possui uma importância menor.\n",
    "* As demais features possuem, no máximo, 1/7 da importância do parkingSpaces e não serão usadas.\n",
    "    * suites, bathrooms e bedrooms apresentaram os melhores resultados, mas ainda muito abaixo do restante. Provavelmente, boa parte de sua informação já está contida em usableAreas (quanto mais suites, banheiros e quartos, maior a área). Por isso, serão excluídas.\n",
    "    * publicationType acabou não contribuindo em quase nada e também será excluída.\n",
    "    * As quatro variáveis com a zona também contribuem muito pouco. Provavelmente, boa parte da sua informação já está contida em lat e lon. Além disso, dividir uma cidade tão grande em apenas 5 zonas dificilmente seria capaz de ajudar na previsão do preço. Todas serão excluídas do modelo final.    "
   ]
  },
  {
   "cell_type": "markdown",
   "metadata": {},
   "source": [
    "## 3.4) Testes para escolha do algoritmo\n",
    "1. Serão usadas apenas as features e target escolhidos na etapa 3.3, já devidamente pré-processadas.\n",
    "2. Para cada modelo, serão calculadas as três métricas.\n",
    "3. Haverão 100 testes aleatórios, o resultado de cada métrica é a média dos 100 resulados.\n",
    "4. O melhor algoritmo será usado para determinar o modelo final."
   ]
  },
  {
   "cell_type": "code",
   "execution_count": 141,
   "metadata": {},
   "outputs": [],
   "source": [
    "# Features.\n",
    "X2 = df_treino[['usableAreas', 'parkingSpaces', 'lat', 'lon']]"
   ]
  },
  {
   "cell_type": "code",
   "execution_count": 142,
   "metadata": {},
   "outputs": [],
   "source": [
    "# 100 experimentos: calcula métricas\n",
    "\n",
    "n = 100\n",
    "[r2_lnr, r2_dtr, r2_knr, mse_lnr, mse_dtr, mse_knr, mae_lnr, mae_dtr, mae_knr] = [0]*9\n",
    "\n",
    "for i in range(n):\n",
    "    X_train, X_test, y_train, y_test = train_test_split(X2, y, test_size=0.2)\n",
    "    \n",
    "    lnr_model = LinearRegression()\n",
    "    lnr_model.fit(X_train, y_train)\n",
    "    y_pred = lnr_model.predict(X_test)\n",
    "    r2_lnr = r2_lnr + r2_score(y_test, y_pred)\n",
    "    mse_lnr = mse_lnr + mean_squared_error(y_test, y_pred)\n",
    "    mae_lnr = mae_lnr + median_absolute_error(y_test, y_pred)\n",
    "    \n",
    "    dtr_model = DecisionTreeRegressor()\n",
    "    dtr_model.fit(X_train, y_train)\n",
    "    y_pred = dtr_model.predict(X_test)\n",
    "    r2_dtr = r2_dtr + r2_score(y_test, y_pred)\n",
    "    mse_dtr = mse_dtr + mean_squared_error(y_test, y_pred)\n",
    "    mae_dtr = mae_dtr + median_absolute_error(y_test, y_pred)\n",
    "\n",
    "    knr_model = KNeighborsRegressor()\n",
    "    knr_model.fit(X_train, y_train)\n",
    "    y_pred = knr_model.predict(X_test)\n",
    "    r2_knr = r2_knr + r2_score(y_test, y_pred)\n",
    "    mse_knr = mse_knr + mean_squared_error(y_test, y_pred)\n",
    "    mae_knr = mae_knr + median_absolute_error(y_test, y_pred)\n",
    "\n",
    "[r2_lnr, r2_dtr, r2_knr, mse_lnr, mse_dtr, mse_knr, mae_lnr, mae_dtr, mae_knr] = list(\n",
    "    np.array([r2_lnr, r2_dtr, r2_knr, mse_lnr, mse_dtr, mse_knr, mae_lnr, mae_dtr, mae_knr])/n)"
   ]
  },
  {
   "cell_type": "code",
   "execution_count": 143,
   "metadata": {},
   "outputs": [
    {
     "data": {
      "text/html": [
       "<div>\n",
       "<style scoped>\n",
       "    .dataframe tbody tr th:only-of-type {\n",
       "        vertical-align: middle;\n",
       "    }\n",
       "\n",
       "    .dataframe tbody tr th {\n",
       "        vertical-align: top;\n",
       "    }\n",
       "\n",
       "    .dataframe thead th {\n",
       "        text-align: right;\n",
       "    }\n",
       "</style>\n",
       "<table border=\"1\" class=\"dataframe\">\n",
       "  <thead>\n",
       "    <tr style=\"text-align: right;\">\n",
       "      <th></th>\n",
       "      <th>r-sqared</th>\n",
       "      <th>mean square error</th>\n",
       "      <th>median absolute error</th>\n",
       "    </tr>\n",
       "  </thead>\n",
       "  <tbody>\n",
       "    <tr>\n",
       "      <th>LinearRegression</th>\n",
       "      <td>0.645836</td>\n",
       "      <td>3.597314e+11</td>\n",
       "      <td>131617.102667</td>\n",
       "    </tr>\n",
       "    <tr>\n",
       "      <th>DecisionTreeRegressor</th>\n",
       "      <td>0.870542</td>\n",
       "      <td>1.311999e+11</td>\n",
       "      <td>36509.657851</td>\n",
       "    </tr>\n",
       "    <tr>\n",
       "      <th>KNeighborsRegressor</th>\n",
       "      <td>0.884531</td>\n",
       "      <td>1.173222e+11</td>\n",
       "      <td>41108.616000</td>\n",
       "    </tr>\n",
       "  </tbody>\n",
       "</table>\n",
       "</div>"
      ],
      "text/plain": [
       "                       r-sqared  mean square error  median absolute error\n",
       "LinearRegression       0.645836       3.597314e+11          131617.102667\n",
       "DecisionTreeRegressor  0.870542       1.311999e+11           36509.657851\n",
       "KNeighborsRegressor    0.884531       1.173222e+11           41108.616000"
      ]
     },
     "execution_count": 143,
     "metadata": {},
     "output_type": "execute_result"
    }
   ],
   "source": [
    "# Resultados das métricas.\n",
    "results = pd.DataFrame({'r-sqared': [r2_lnr, r2_dtr, r2_knr],\n",
    "                        'mean square error': [mse_lnr, mse_dtr, mse_knr],\n",
    "                        'median absolute error': [mae_lnr, mae_dtr, mae_knr]},\n",
    "                       index = ['LinearRegression','DecisionTreeRegressor','KNeighborsRegressor'])\n",
    "results"
   ]
  },
  {
   "cell_type": "markdown",
   "metadata": {},
   "source": [
    "### Conclusão:\n",
    "* Observa-se que a exclusão de features sem importância melhorou o resultado das métricas.\n",
    "* O DecisionTreeRegressor apresenta o melhor resultado de MAE , apesar de possuir desempenho inferior ao KNeighborsRegressor nas métricas auxiliares. \n",
    "* Em relação ao DecisionTreeRegressor, o KNeighborsRegressor apresenta um MSE 10% menor e um MAE 13% maior.\n",
    "* Aparentemente, o DecisionTreeRegressor acerta os fáceis e erra os difíceis, motivo pelo qual possui menor mediana de erro com maior média de erro quadrático. \n",
    "* A Regressão Linear performa notavelmente pior, provavelmente porque as features lat e lon não possuem relação linear.\n",
    "* **O modelo escolhido, que possui menor MAE, é então o DecisionTreeRegressor.**"
   ]
  },
  {
   "cell_type": "markdown",
   "metadata": {},
   "source": [
    "# 4) Construção do modelo e previsão"
   ]
  },
  {
   "cell_type": "markdown",
   "metadata": {},
   "source": [
    "1. O modelo final usará todos os dados do conjunto de treino.\n",
    "2. Ele será usado para prever cada instância do conj. de teste.\n",
    "3. O resultado será armazenado em um arquivo csv."
   ]
  },
  {
   "cell_type": "code",
   "execution_count": 144,
   "metadata": {},
   "outputs": [],
   "source": [
    "# Features e targets.\n",
    "[X_train, X_test, y_train] = [X2, df_teste[['usableAreas', 'parkingSpaces', 'lat', 'lon']], y]"
   ]
  },
  {
   "cell_type": "code",
   "execution_count": 145,
   "metadata": {},
   "outputs": [
    {
     "data": {
      "text/plain": [
       "DecisionTreeRegressor(criterion='mse', max_depth=None, max_features=None,\n",
       "           max_leaf_nodes=None, min_impurity_decrease=0.0,\n",
       "           min_impurity_split=None, min_samples_leaf=1,\n",
       "           min_samples_split=2, min_weight_fraction_leaf=0.0,\n",
       "           presort=False, random_state=0, splitter='best')"
      ]
     },
     "execution_count": 145,
     "metadata": {},
     "output_type": "execute_result"
    }
   ],
   "source": [
    "# Treinando o modelo.\n",
    "final_model = DecisionTreeRegressor(random_state=0)\n",
    "final_model.fit(X_train, y_train)"
   ]
  },
  {
   "cell_type": "code",
   "execution_count": 146,
   "metadata": {},
   "outputs": [],
   "source": [
    "# Prevendo o target.\n",
    "y_pred = final_model.predict(X_test)"
   ]
  },
  {
   "cell_type": "code",
   "execution_count": 147,
   "metadata": {},
   "outputs": [
    {
     "data": {
      "text/plain": [
       "Text(0.5,0.98,'Histograma de preços previstos do conj. de testes')"
      ]
     },
     "execution_count": 147,
     "metadata": {},
     "output_type": "execute_result"
    },
    {
     "data": {
      "image/png": "[encoded data removed]",
      "text/plain": [
       "<Figure size 432x288 with 1 Axes>"
      ]
     },
     "metadata": {},
     "output_type": "display_data"
    }
   ],
   "source": [
    "# Armazena resultados em um DataFrame e exibe um histograma.\n",
    "df_results = pd.DataFrame(data=y_pred, columns=['price'], index=df_teste.index)\n",
    "df_results.hist(bins=200)\n",
    "plt.suptitle('Histograma de preços previstos do conj. de testes')"
   ]
  },
  {
   "cell_type": "code",
   "execution_count": 148,
   "metadata": {},
   "outputs": [],
   "source": [
    "df_results.to_csv(r'results.csv')"
   ]
  },
  {
   "cell_type": "markdown",
   "metadata": {},
   "source": [
    "# 5) Perguntas"
   ]
  },
  {
   "cell_type": "markdown",
   "metadata": {},
   "source": [
    "### 5.1) Você utilizaria a métrica escolhida para seleção de modelo também para comunicar os resultados para usuários e stakeholders internos? Em caso negativo, qual outra métrica você utilizaria nesse caso?\n",
    "Com certeza, a escolha das métricas (ver 3.1 para explicações) teve em vista possíveis usuários e stakeholders internos."
   ]
  },
  {
   "cell_type": "markdown",
   "metadata": {},
   "source": [
    "### 5.2) Em quais bairros ou em quais faixas de preço o seu modelo performa melhor?\n",
    "O menor erro absoluto médio ocorre na Zona Norte, enquanto que o maior ocorre na Zona Sul."
   ]
  },
  {
   "cell_type": "code",
   "execution_count": 149,
   "metadata": {},
   "outputs": [
    {
     "data": {
      "text/html": [
       "<div>\n",
       "<style scoped>\n",
       "    .dataframe tbody tr th:only-of-type {\n",
       "        vertical-align: middle;\n",
       "    }\n",
       "\n",
       "    .dataframe tbody tr th {\n",
       "        vertical-align: top;\n",
       "    }\n",
       "\n",
       "    .dataframe thead th {\n",
       "        text-align: right;\n",
       "    }\n",
       "</style>\n",
       "<table border=\"1\" class=\"dataframe\">\n",
       "  <thead>\n",
       "    <tr style=\"text-align: right;\">\n",
       "      <th></th>\n",
       "      <th>abs_error</th>\n",
       "    </tr>\n",
       "    <tr>\n",
       "      <th>locationId_zone</th>\n",
       "      <th></th>\n",
       "    </tr>\n",
       "  </thead>\n",
       "  <tbody>\n",
       "    <tr>\n",
       "      <th>Zona Norte</th>\n",
       "      <td>9699.637617</td>\n",
       "    </tr>\n",
       "    <tr>\n",
       "      <th>Zona Leste</th>\n",
       "      <td>13134.889196</td>\n",
       "    </tr>\n",
       "    <tr>\n",
       "      <th>Zona Oeste</th>\n",
       "      <td>13987.609572</td>\n",
       "    </tr>\n",
       "    <tr>\n",
       "      <th>Centro</th>\n",
       "      <td>20426.354760</td>\n",
       "    </tr>\n",
       "    <tr>\n",
       "      <th>Zona Sul</th>\n",
       "      <td>23923.251376</td>\n",
       "    </tr>\n",
       "  </tbody>\n",
       "</table>\n",
       "</div>"
      ],
      "text/plain": [
       "                    abs_error\n",
       "locationId_zone              \n",
       "Zona Norte        9699.637617\n",
       "Zona Leste       13134.889196\n",
       "Zona Oeste       13987.609572\n",
       "Centro           20426.354760\n",
       "Zona Sul         23923.251376"
      ]
     },
     "execution_count": 149,
     "metadata": {},
     "output_type": "execute_result"
    }
   ],
   "source": [
    "df = df_treino[['locationId_zone', 'price']].copy()\n",
    "df['price_pred'] = final_model.predict(X_train)\n",
    "df['abs_error'] = abs(df.price - df.price_pred)\n",
    "a = df.groupby('locationId_zone')['abs_error'].mean()\n",
    "a = pd.DataFrame(data=a, columns=['abs_error'])\n",
    "a.sort_values(by='abs_error')"
   ]
  },
  {
   "cell_type": "markdown",
   "metadata": {},
   "source": [
    "### 5.3) Se você tivesse que estimar o valor dos imóveis com apenas 3 campos, quais seriam eles?\n",
    "Seriam usableAreas, lon e lat, conforme explicado em 3.3."
   ]
  },
  {
   "cell_type": "markdown",
   "metadata": {},
   "source": [
    "### 5.4) Como você vislumbra colocar a sua solução em produção?\n",
    "1. Construir uma API que carrega dados das quatro variáveis escolhidas (usableAreas, lat, lon e parkingSpaces) e realiza as transformações indicadas nos itens 2.4, 2.8 e 2.15.\n",
    "2. Implementar o modelo do item 4 que estima o preço tendo como entrada os dados do item anterior.\n",
    "3. Observação: ainda seriam necessárias etapas para:\n",
    "    * Compreender melhor os preços da variável price, ara que se possa préprocessá-los de maneira mais adequada. Ainda é provável que haja instâncias com erros no target price.\n",
    "    * Refinar o modelo através do ajuste de hiperparâmetros, ou mesmo através do uso do algoritmo RandonForests.\n",
    "    * Realizar mais testes para verificar a confiabilidade do modelo.\n",
    "    * Talvez seja possível realizar um agrupamento de bairros usando um método como PCA, para criar features baseadas em grupos de features. O mesmo talvez seja possível para bairros, zipCodes e publisherId. O presente trabalho, entretanto, não se aprofunda nestes temas."
   ]
  },
  {
   "cell_type": "code",
   "execution_count": null,
   "metadata": {},
   "outputs": [],
   "source": []
  }
 ],
 "metadata": {
  "kernelspec": {
   "display_name": "Python 3",
   "language": "python",
   "name": "python3"
  },
  "language_info": {
   "codemirror_mode": {
    "name": "ipython",
    "version": 3
   },
   "file_extension": ".py",
   "mimetype": "text/x-python",
   "name": "python",
   "nbconvert_exporter": "python",
   "pygments_lexer": "ipython3",
   "version": "3.6.5"
  }
 },
 "nbformat": 4,
 "nbformat_minor": 2
}
